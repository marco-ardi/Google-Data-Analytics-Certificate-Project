{
 "cells": [
  {
   "cell_type": "markdown",
   "id": "026dbcda",
   "metadata": {},
   "source": [
    "# Google Data Analytics Captone\n",
    "## How does a bike-share navigate speedy success?\n",
    "### Made by Marco Ardizzone\n",
    "### November 2021\n",
    "### Altri Dati vari"
   ]
  },
  {
   "cell_type": "markdown",
   "id": "3ffb2d9c",
   "metadata": {},
   "source": [
    "### Ask phase:\n",
    "In this phase we are trying to figure out what are the stakeholder's requests and how we and our analysis can help them.\n",
    "They want us to analyze their annual data, in order to suggest them a data-driven strategy for converting casual riders to annual member. "
   ]
  },
  {
   "cell_type": "markdown",
   "id": "9e20e965",
   "metadata": {},
   "source": [
    "### Prepare phase:"
   ]
  },
  {
   "cell_type": "markdown",
   "id": "6cc3b1e5",
   "metadata": {},
   "source": [
    "The data sources used is:\n",
    "* Divvy_Trips_2019_Q1.csv: contains data about Q1 of 2019's historical trip data\n",
    "* Divvy_Trips_2019_Q2.csv: contains data about Q2 of 2019's historical trip data\n",
    "* Divvy_Trips_2019_Q3.csv: contains data about Q3 of 2019's historical trip data\n",
    "* Divvy_Trips_2019_Q4.csv: contains data about Q4 of 2019's historical trip data\n",
    "\n",
    "Each file contains the following fields:\n",
    "* trip_id\n",
    "* start_time\n",
    "* end_time\n",
    "* bikeid\n",
    "* tripduration\n",
    "* from_station_id\n",
    "* from_station_name\n",
    "* to_station_id\n",
    "* to_station_name\n",
    "* usertype\n",
    "* gender\n",
    "* birthyear        "
   ]
  },
  {
   "cell_type": "markdown",
   "id": "c5480dfe",
   "metadata": {},
   "source": [
    "We assume the data is credibile and does not contain bias, since it comes from the company itself.\n",
    "Data integrity will be checked in the next phase."
   ]
  },
  {
   "cell_type": "markdown",
   "id": "2046c040",
   "metadata": {},
   "source": [
    "### Process phase\n",
    "We choose to process data using R.\n",
    "This decision comes from the data shape: there are 12 columns and 3.818.004 rows, spreadsheets could not manage this much data.\n",
    "It could be possible to use SQL, but we prefer R because allows to clean, sort, filter and visualize data in one place."
   ]
  },
  {
   "cell_type": "markdown",
   "id": "cdc57c4b",
   "metadata": {},
   "source": [
    "Firstly, we load data into R and check them."
   ]
  },
  {
   "cell_type": "code",
   "execution_count": 1,
   "id": "2bfcb784",
   "metadata": {},
   "outputs": [],
   "source": [
    "df_Q1 <- read.csv(\"Divvy_Trips_2019_Q1.csv\")\n",
    "df_Q2 <- read.csv(\"Divvy_Trips_2019_Q2.csv\")\n",
    "df_Q3 <- read.csv(\"Divvy_Trips_2019_Q3.csv\")\n",
    "df_Q4 <- read.csv(\"Divvy_Trips_2019_Q4.csv\")"
   ]
  },
  {
   "cell_type": "markdown",
   "id": "edfe5608",
   "metadata": {},
   "source": [
    "We now check column names and first rows"
   ]
  },
  {
   "cell_type": "code",
   "execution_count": 2,
   "id": "d302398c",
   "metadata": {},
   "outputs": [
    {
     "data": {
      "text/html": [
       "<table>\n",
       "<thead><tr><th scope=col>trip_id</th><th scope=col>start_time</th><th scope=col>end_time</th><th scope=col>bikeid</th><th scope=col>tripduration</th><th scope=col>from_station_id</th><th scope=col>from_station_name</th><th scope=col>to_station_id</th><th scope=col>to_station_name</th><th scope=col>usertype</th><th scope=col>gender</th><th scope=col>birthyear</th></tr></thead>\n",
       "<tbody>\n",
       "\t<tr><td>21742443                                                                       </td><td>2019-01-01 00:04:37                                                            </td><td>2019-01-01 00:11:07                                                            </td><td>2167                                                                           </td><td><span style=white-space:pre-wrap>390.0  </span>                                </td><td>199                                                                            </td><td><span style=white-space:pre-wrap>Wabash Ave &amp; Grand Ave             </span></td><td> 84                                                                            </td><td><span style=white-space:pre-wrap>Milwaukee Ave &amp; Grand Ave     </span>     </td><td>Subscriber                                                                     </td><td><span style=white-space:pre-wrap>Male  </span>                                 </td><td>1989                                                                           </td></tr>\n",
       "\t<tr><td>21742444                                                                       </td><td>2019-01-01 00:08:13                                                            </td><td>2019-01-01 00:15:34                                                            </td><td>4386                                                                           </td><td><span style=white-space:pre-wrap>441.0  </span>                                </td><td> 44                                                                            </td><td><span style=white-space:pre-wrap>State St &amp; Randolph St             </span></td><td>624                                                                            </td><td>Dearborn St &amp; Van Buren St (*)                                             </td><td>Subscriber                                                                     </td><td>Female                                                                         </td><td>1990                                                                           </td></tr>\n",
       "\t<tr><td>21742445                                                                       </td><td>2019-01-01 00:13:23                                                            </td><td>2019-01-01 00:27:12                                                            </td><td>1524                                                                           </td><td><span style=white-space:pre-wrap>829.0  </span>                                </td><td> 15                                                                            </td><td><span style=white-space:pre-wrap>Racine Ave &amp; 18th St               </span></td><td>644                                                                            </td><td>Western Ave &amp; Fillmore St (*)                                              </td><td>Subscriber                                                                     </td><td>Female                                                                         </td><td>1994                                                                           </td></tr>\n",
       "\t<tr><td>21742446                                                                       </td><td>2019-01-01 00:13:45                                                            </td><td>2019-01-01 00:43:28                                                            </td><td> 252                                                                           </td><td>1,783.0                                                                        </td><td>123                                                                            </td><td><span style=white-space:pre-wrap>California Ave &amp; Milwaukee Ave     </span></td><td>176                                                                            </td><td><span style=white-space:pre-wrap>Clark St &amp; Elm St             </span>     </td><td>Subscriber                                                                     </td><td><span style=white-space:pre-wrap>Male  </span>                                 </td><td>1993                                                                           </td></tr>\n",
       "\t<tr><td>21742447                                                                  </td><td>2019-01-01 00:14:52                                                       </td><td>2019-01-01 00:20:56                                                       </td><td>1170                                                                      </td><td><span style=white-space:pre-wrap>364.0  </span>                           </td><td>173                                                                       </td><td>Mies van der Rohe Way &amp; Chicago Ave                                   </td><td> 35                                                                       </td><td><span style=white-space:pre-wrap>Streeter Dr &amp; Grand Ave       </span></td><td>Subscriber                                                                </td><td><span style=white-space:pre-wrap>Male  </span>                            </td><td>1994                                                                      </td></tr>\n",
       "\t<tr><td>21742448                                                                       </td><td>2019-01-01 00:15:33                                                            </td><td>2019-01-01 00:19:09                                                            </td><td>2437                                                                           </td><td><span style=white-space:pre-wrap>216.0  </span>                                </td><td> 98                                                                            </td><td><span style=white-space:pre-wrap>LaSalle St &amp; Washington St         </span></td><td> 49                                                                            </td><td><span style=white-space:pre-wrap>Dearborn St &amp; Monroe St       </span>     </td><td>Subscriber                                                                     </td><td>Female                                                                         </td><td>1983                                                                           </td></tr>\n",
       "</tbody>\n",
       "</table>\n"
      ],
      "text/latex": [
       "\\begin{tabular}{r|llllllllllll}\n",
       " trip\\_id & start\\_time & end\\_time & bikeid & tripduration & from\\_station\\_id & from\\_station\\_name & to\\_station\\_id & to\\_station\\_name & usertype & gender & birthyear\\\\\n",
       "\\hline\n",
       "\t 21742443                              & 2019-01-01 00:04:37                   & 2019-01-01 00:11:07                   & 2167                                  & 390.0                                 & 199                                   & Wabash Ave \\& Grand Ave              &  84                                   & Milwaukee Ave \\& Grand Ave           & Subscriber                            & Male                                  & 1989                                 \\\\\n",
       "\t 21742444                              & 2019-01-01 00:08:13                   & 2019-01-01 00:15:34                   & 4386                                  & 441.0                                 &  44                                   & State St \\& Randolph St              & 624                                   & Dearborn St \\& Van Buren St (*)      & Subscriber                            & Female                                & 1990                                 \\\\\n",
       "\t 21742445                              & 2019-01-01 00:13:23                   & 2019-01-01 00:27:12                   & 1524                                  & 829.0                                 &  15                                   & Racine Ave \\& 18th St                & 644                                   & Western Ave \\& Fillmore St (*)       & Subscriber                            & Female                                & 1994                                 \\\\\n",
       "\t 21742446                              & 2019-01-01 00:13:45                   & 2019-01-01 00:43:28                   &  252                                  & 1,783.0                               & 123                                   & California Ave \\& Milwaukee Ave      & 176                                   & Clark St \\& Elm St                   & Subscriber                            & Male                                  & 1993                                 \\\\\n",
       "\t 21742447                              & 2019-01-01 00:14:52                   & 2019-01-01 00:20:56                   & 1170                                  & 364.0                                 & 173                                   & Mies van der Rohe Way \\& Chicago Ave &  35                                   & Streeter Dr \\& Grand Ave             & Subscriber                            & Male                                  & 1994                                 \\\\\n",
       "\t 21742448                              & 2019-01-01 00:15:33                   & 2019-01-01 00:19:09                   & 2437                                  & 216.0                                 &  98                                   & LaSalle St \\& Washington St          &  49                                   & Dearborn St \\& Monroe St             & Subscriber                            & Female                                & 1983                                 \\\\\n",
       "\\end{tabular}\n"
      ],
      "text/markdown": [
       "\n",
       "| trip_id | start_time | end_time | bikeid | tripduration | from_station_id | from_station_name | to_station_id | to_station_name | usertype | gender | birthyear |\n",
       "|---|---|---|---|---|---|---|---|---|---|---|---|\n",
       "| 21742443                            | 2019-01-01 00:04:37                 | 2019-01-01 00:11:07                 | 2167                                | 390.0                               | 199                                 | Wabash Ave & Grand Ave              |  84                                 | Milwaukee Ave & Grand Ave           | Subscriber                          | Male                                | 1989                                |\n",
       "| 21742444                            | 2019-01-01 00:08:13                 | 2019-01-01 00:15:34                 | 4386                                | 441.0                               |  44                                 | State St & Randolph St              | 624                                 | Dearborn St & Van Buren St (*)      | Subscriber                          | Female                              | 1990                                |\n",
       "| 21742445                            | 2019-01-01 00:13:23                 | 2019-01-01 00:27:12                 | 1524                                | 829.0                               |  15                                 | Racine Ave & 18th St                | 644                                 | Western Ave & Fillmore St (*)       | Subscriber                          | Female                              | 1994                                |\n",
       "| 21742446                            | 2019-01-01 00:13:45                 | 2019-01-01 00:43:28                 |  252                                | 1,783.0                             | 123                                 | California Ave & Milwaukee Ave      | 176                                 | Clark St & Elm St                   | Subscriber                          | Male                                | 1993                                |\n",
       "| 21742447                            | 2019-01-01 00:14:52                 | 2019-01-01 00:20:56                 | 1170                                | 364.0                               | 173                                 | Mies van der Rohe Way & Chicago Ave |  35                                 | Streeter Dr & Grand Ave             | Subscriber                          | Male                                | 1994                                |\n",
       "| 21742448                            | 2019-01-01 00:15:33                 | 2019-01-01 00:19:09                 | 2437                                | 216.0                               |  98                                 | LaSalle St & Washington St          |  49                                 | Dearborn St & Monroe St             | Subscriber                          | Female                              | 1983                                |\n",
       "\n"
      ],
      "text/plain": [
       "  trip_id  start_time          end_time            bikeid tripduration\n",
       "1 21742443 2019-01-01 00:04:37 2019-01-01 00:11:07 2167   390.0       \n",
       "2 21742444 2019-01-01 00:08:13 2019-01-01 00:15:34 4386   441.0       \n",
       "3 21742445 2019-01-01 00:13:23 2019-01-01 00:27:12 1524   829.0       \n",
       "4 21742446 2019-01-01 00:13:45 2019-01-01 00:43:28  252   1,783.0     \n",
       "5 21742447 2019-01-01 00:14:52 2019-01-01 00:20:56 1170   364.0       \n",
       "6 21742448 2019-01-01 00:15:33 2019-01-01 00:19:09 2437   216.0       \n",
       "  from_station_id from_station_name                   to_station_id\n",
       "1 199             Wabash Ave & Grand Ave               84          \n",
       "2  44             State St & Randolph St              624          \n",
       "3  15             Racine Ave & 18th St                644          \n",
       "4 123             California Ave & Milwaukee Ave      176          \n",
       "5 173             Mies van der Rohe Way & Chicago Ave  35          \n",
       "6  98             LaSalle St & Washington St           49          \n",
       "  to_station_name                usertype   gender birthyear\n",
       "1 Milwaukee Ave & Grand Ave      Subscriber Male   1989     \n",
       "2 Dearborn St & Van Buren St (*) Subscriber Female 1990     \n",
       "3 Western Ave & Fillmore St (*)  Subscriber Female 1994     \n",
       "4 Clark St & Elm St              Subscriber Male   1993     \n",
       "5 Streeter Dr & Grand Ave        Subscriber Male   1994     \n",
       "6 Dearborn St & Monroe St        Subscriber Female 1983     "
      ]
     },
     "metadata": {},
     "output_type": "display_data"
    },
    {
     "data": {
      "text/html": [
       "<ol class=list-inline>\n",
       "\t<li>'trip_id'</li>\n",
       "\t<li>'start_time'</li>\n",
       "\t<li>'end_time'</li>\n",
       "\t<li>'bikeid'</li>\n",
       "\t<li>'tripduration'</li>\n",
       "\t<li>'from_station_id'</li>\n",
       "\t<li>'from_station_name'</li>\n",
       "\t<li>'to_station_id'</li>\n",
       "\t<li>'to_station_name'</li>\n",
       "\t<li>'usertype'</li>\n",
       "\t<li>'gender'</li>\n",
       "\t<li>'birthyear'</li>\n",
       "</ol>\n"
      ],
      "text/latex": [
       "\\begin{enumerate*}\n",
       "\\item 'trip\\_id'\n",
       "\\item 'start\\_time'\n",
       "\\item 'end\\_time'\n",
       "\\item 'bikeid'\n",
       "\\item 'tripduration'\n",
       "\\item 'from\\_station\\_id'\n",
       "\\item 'from\\_station\\_name'\n",
       "\\item 'to\\_station\\_id'\n",
       "\\item 'to\\_station\\_name'\n",
       "\\item 'usertype'\n",
       "\\item 'gender'\n",
       "\\item 'birthyear'\n",
       "\\end{enumerate*}\n"
      ],
      "text/markdown": [
       "1. 'trip_id'\n",
       "2. 'start_time'\n",
       "3. 'end_time'\n",
       "4. 'bikeid'\n",
       "5. 'tripduration'\n",
       "6. 'from_station_id'\n",
       "7. 'from_station_name'\n",
       "8. 'to_station_id'\n",
       "9. 'to_station_name'\n",
       "10. 'usertype'\n",
       "11. 'gender'\n",
       "12. 'birthyear'\n",
       "\n",
       "\n"
      ],
      "text/plain": [
       " [1] \"trip_id\"           \"start_time\"        \"end_time\"         \n",
       " [4] \"bikeid\"            \"tripduration\"      \"from_station_id\"  \n",
       " [7] \"from_station_name\" \"to_station_id\"     \"to_station_name\"  \n",
       "[10] \"usertype\"          \"gender\"            \"birthyear\"        "
      ]
     },
     "metadata": {},
     "output_type": "display_data"
    }
   ],
   "source": [
    "head(df_Q1)\n",
    "colnames(df_Q1)\n"
   ]
  },
  {
   "cell_type": "code",
   "execution_count": 3,
   "id": "cbd389aa",
   "metadata": {},
   "outputs": [
    {
     "data": {
      "text/html": [
       "<table>\n",
       "<thead><tr><th scope=col>X01...Rental.Details.Rental.ID</th><th scope=col>X01...Rental.Details.Local.Start.Time</th><th scope=col>X01...Rental.Details.Local.End.Time</th><th scope=col>X01...Rental.Details.Bike.ID</th><th scope=col>X01...Rental.Details.Duration.In.Seconds.Uncapped</th><th scope=col>X03...Rental.Start.Station.ID</th><th scope=col>X03...Rental.Start.Station.Name</th><th scope=col>X02...Rental.End.Station.ID</th><th scope=col>X02...Rental.End.Station.Name</th><th scope=col>User.Type</th><th scope=col>Member.Gender</th><th scope=col>X05...Member.Details.Member.Birthday.Year</th></tr></thead>\n",
       "<tbody>\n",
       "\t<tr><td>22178529                                                         </td><td>2019-04-01 00:02:22                                              </td><td>2019-04-01 00:09:48                                              </td><td>6251                                                             </td><td><span style=white-space:pre-wrap>446.0  </span>                  </td><td> 81                                                              </td><td><span style=white-space:pre-wrap>Daley Center Plaza       </span></td><td> 56                                                              </td><td>Desplaines St &amp; Kinzie St                                    </td><td>Subscriber                                                       </td><td><span style=white-space:pre-wrap>Male  </span>                   </td><td>1975                                                             </td></tr>\n",
       "\t<tr><td>22178530                                                             </td><td>2019-04-01 00:03:02                                                  </td><td>2019-04-01 00:20:30                                                  </td><td>6226                                                                 </td><td>1,048.0                                                              </td><td>317                                                                  </td><td><span style=white-space:pre-wrap>Wood St &amp; Taylor St      </span></td><td> 59                                                                  </td><td>Wabash Ave &amp; Roosevelt Rd                                        </td><td>Subscriber                                                           </td><td>Female                                                               </td><td>1984                                                                 </td></tr>\n",
       "\t<tr><td>22178531                                                             </td><td>2019-04-01 00:11:07                                                  </td><td>2019-04-01 00:15:19                                                  </td><td>5649                                                                 </td><td><span style=white-space:pre-wrap>252.0  </span>                      </td><td>283                                                                  </td><td>LaSalle St &amp; Jackson Blvd                                        </td><td>174                                                                  </td><td><span style=white-space:pre-wrap>Canal St &amp; Madison St    </span></td><td>Subscriber                                                           </td><td><span style=white-space:pre-wrap>Male  </span>                       </td><td>1990                                                                 </td></tr>\n",
       "\t<tr><td>22178532                                       </td><td>2019-04-01 00:13:01                            </td><td>2019-04-01 00:18:58                            </td><td>4151                                           </td><td><span style=white-space:pre-wrap>357.0  </span></td><td> 26                                            </td><td>McClurg Ct &amp; Illinois St                   </td><td>133                                            </td><td>Kingsbury St &amp; Kinzie St                   </td><td>Subscriber                                     </td><td><span style=white-space:pre-wrap>Male  </span> </td><td>1993                                           </td></tr>\n",
       "\t<tr><td>22178533                                                             </td><td>2019-04-01 00:19:26                                                  </td><td>2019-04-01 00:36:13                                                  </td><td>3270                                                                 </td><td>1,007.0                                                              </td><td>202                                                                  </td><td><span style=white-space:pre-wrap>Halsted St &amp; 18th St     </span></td><td>129                                                                  </td><td>Blue Island Ave &amp; 18th St                                        </td><td>Subscriber                                                           </td><td><span style=white-space:pre-wrap>Male  </span>                       </td><td>1992                                                                 </td></tr>\n",
       "\t<tr><td>22178534                                                             </td><td>2019-04-01 00:19:39                                                  </td><td>2019-04-01 00:23:56                                                  </td><td>3123                                                                 </td><td><span style=white-space:pre-wrap>257.0  </span>                      </td><td>420                                                                  </td><td><span style=white-space:pre-wrap>Ellis Ave &amp; 55th St      </span></td><td>426                                                                  </td><td><span style=white-space:pre-wrap>Ellis Ave &amp; 60th St      </span></td><td>Subscriber                                                           </td><td><span style=white-space:pre-wrap>Male  </span>                       </td><td>1999                                                                 </td></tr>\n",
       "</tbody>\n",
       "</table>\n"
      ],
      "text/latex": [
       "\\begin{tabular}{r|llllllllllll}\n",
       " X01...Rental.Details.Rental.ID & X01...Rental.Details.Local.Start.Time & X01...Rental.Details.Local.End.Time & X01...Rental.Details.Bike.ID & X01...Rental.Details.Duration.In.Seconds.Uncapped & X03...Rental.Start.Station.ID & X03...Rental.Start.Station.Name & X02...Rental.End.Station.ID & X02...Rental.End.Station.Name & User.Type & Member.Gender & X05...Member.Details.Member.Birthday.Year\\\\\n",
       "\\hline\n",
       "\t 22178529                    & 2019-04-01 00:02:22         & 2019-04-01 00:09:48         & 6251                        & 446.0                       &  81                         & Daley Center Plaza          &  56                         & Desplaines St \\& Kinzie St & Subscriber                  & Male                        & 1975                       \\\\\n",
       "\t 22178530                    & 2019-04-01 00:03:02         & 2019-04-01 00:20:30         & 6226                        & 1,048.0                     & 317                         & Wood St \\& Taylor St       &  59                         & Wabash Ave \\& Roosevelt Rd & Subscriber                  & Female                      & 1984                       \\\\\n",
       "\t 22178531                    & 2019-04-01 00:11:07         & 2019-04-01 00:15:19         & 5649                        & 252.0                       & 283                         & LaSalle St \\& Jackson Blvd & 174                         & Canal St \\& Madison St     & Subscriber                  & Male                        & 1990                       \\\\\n",
       "\t 22178532                    & 2019-04-01 00:13:01         & 2019-04-01 00:18:58         & 4151                        & 357.0                       &  26                         & McClurg Ct \\& Illinois St  & 133                         & Kingsbury St \\& Kinzie St  & Subscriber                  & Male                        & 1993                       \\\\\n",
       "\t 22178533                    & 2019-04-01 00:19:26         & 2019-04-01 00:36:13         & 3270                        & 1,007.0                     & 202                         & Halsted St \\& 18th St      & 129                         & Blue Island Ave \\& 18th St & Subscriber                  & Male                        & 1992                       \\\\\n",
       "\t 22178534                    & 2019-04-01 00:19:39         & 2019-04-01 00:23:56         & 3123                        & 257.0                       & 420                         & Ellis Ave \\& 55th St       & 426                         & Ellis Ave \\& 60th St       & Subscriber                  & Male                        & 1999                       \\\\\n",
       "\\end{tabular}\n"
      ],
      "text/markdown": [
       "\n",
       "| X01...Rental.Details.Rental.ID | X01...Rental.Details.Local.Start.Time | X01...Rental.Details.Local.End.Time | X01...Rental.Details.Bike.ID | X01...Rental.Details.Duration.In.Seconds.Uncapped | X03...Rental.Start.Station.ID | X03...Rental.Start.Station.Name | X02...Rental.End.Station.ID | X02...Rental.End.Station.Name | User.Type | Member.Gender | X05...Member.Details.Member.Birthday.Year |\n",
       "|---|---|---|---|---|---|---|---|---|---|---|---|\n",
       "| 22178529                  | 2019-04-01 00:02:22       | 2019-04-01 00:09:48       | 6251                      | 446.0                     |  81                       | Daley Center Plaza        |  56                       | Desplaines St & Kinzie St | Subscriber                | Male                      | 1975                      |\n",
       "| 22178530                  | 2019-04-01 00:03:02       | 2019-04-01 00:20:30       | 6226                      | 1,048.0                   | 317                       | Wood St & Taylor St       |  59                       | Wabash Ave & Roosevelt Rd | Subscriber                | Female                    | 1984                      |\n",
       "| 22178531                  | 2019-04-01 00:11:07       | 2019-04-01 00:15:19       | 5649                      | 252.0                     | 283                       | LaSalle St & Jackson Blvd | 174                       | Canal St & Madison St     | Subscriber                | Male                      | 1990                      |\n",
       "| 22178532                  | 2019-04-01 00:13:01       | 2019-04-01 00:18:58       | 4151                      | 357.0                     |  26                       | McClurg Ct & Illinois St  | 133                       | Kingsbury St & Kinzie St  | Subscriber                | Male                      | 1993                      |\n",
       "| 22178533                  | 2019-04-01 00:19:26       | 2019-04-01 00:36:13       | 3270                      | 1,007.0                   | 202                       | Halsted St & 18th St      | 129                       | Blue Island Ave & 18th St | Subscriber                | Male                      | 1992                      |\n",
       "| 22178534                  | 2019-04-01 00:19:39       | 2019-04-01 00:23:56       | 3123                      | 257.0                     | 420                       | Ellis Ave & 55th St       | 426                       | Ellis Ave & 60th St       | Subscriber                | Male                      | 1999                      |\n",
       "\n"
      ],
      "text/plain": [
       "  X01...Rental.Details.Rental.ID X01...Rental.Details.Local.Start.Time\n",
       "1 22178529                       2019-04-01 00:02:22                  \n",
       "2 22178530                       2019-04-01 00:03:02                  \n",
       "3 22178531                       2019-04-01 00:11:07                  \n",
       "4 22178532                       2019-04-01 00:13:01                  \n",
       "5 22178533                       2019-04-01 00:19:26                  \n",
       "6 22178534                       2019-04-01 00:19:39                  \n",
       "  X01...Rental.Details.Local.End.Time X01...Rental.Details.Bike.ID\n",
       "1 2019-04-01 00:09:48                 6251                        \n",
       "2 2019-04-01 00:20:30                 6226                        \n",
       "3 2019-04-01 00:15:19                 5649                        \n",
       "4 2019-04-01 00:18:58                 4151                        \n",
       "5 2019-04-01 00:36:13                 3270                        \n",
       "6 2019-04-01 00:23:56                 3123                        \n",
       "  X01...Rental.Details.Duration.In.Seconds.Uncapped\n",
       "1 446.0                                            \n",
       "2 1,048.0                                          \n",
       "3 252.0                                            \n",
       "4 357.0                                            \n",
       "5 1,007.0                                          \n",
       "6 257.0                                            \n",
       "  X03...Rental.Start.Station.ID X03...Rental.Start.Station.Name\n",
       "1  81                           Daley Center Plaza             \n",
       "2 317                           Wood St & Taylor St            \n",
       "3 283                           LaSalle St & Jackson Blvd      \n",
       "4  26                           McClurg Ct & Illinois St       \n",
       "5 202                           Halsted St & 18th St           \n",
       "6 420                           Ellis Ave & 55th St            \n",
       "  X02...Rental.End.Station.ID X02...Rental.End.Station.Name User.Type \n",
       "1  56                         Desplaines St & Kinzie St     Subscriber\n",
       "2  59                         Wabash Ave & Roosevelt Rd     Subscriber\n",
       "3 174                         Canal St & Madison St         Subscriber\n",
       "4 133                         Kingsbury St & Kinzie St      Subscriber\n",
       "5 129                         Blue Island Ave & 18th St     Subscriber\n",
       "6 426                         Ellis Ave & 60th St           Subscriber\n",
       "  Member.Gender X05...Member.Details.Member.Birthday.Year\n",
       "1 Male          1975                                     \n",
       "2 Female        1984                                     \n",
       "3 Male          1990                                     \n",
       "4 Male          1993                                     \n",
       "5 Male          1992                                     \n",
       "6 Male          1999                                     "
      ]
     },
     "metadata": {},
     "output_type": "display_data"
    },
    {
     "data": {
      "text/html": [
       "<ol class=list-inline>\n",
       "\t<li>'X01...Rental.Details.Rental.ID'</li>\n",
       "\t<li>'X01...Rental.Details.Local.Start.Time'</li>\n",
       "\t<li>'X01...Rental.Details.Local.End.Time'</li>\n",
       "\t<li>'X01...Rental.Details.Bike.ID'</li>\n",
       "\t<li>'X01...Rental.Details.Duration.In.Seconds.Uncapped'</li>\n",
       "\t<li>'X03...Rental.Start.Station.ID'</li>\n",
       "\t<li>'X03...Rental.Start.Station.Name'</li>\n",
       "\t<li>'X02...Rental.End.Station.ID'</li>\n",
       "\t<li>'X02...Rental.End.Station.Name'</li>\n",
       "\t<li>'User.Type'</li>\n",
       "\t<li>'Member.Gender'</li>\n",
       "\t<li>'X05...Member.Details.Member.Birthday.Year'</li>\n",
       "</ol>\n"
      ],
      "text/latex": [
       "\\begin{enumerate*}\n",
       "\\item 'X01...Rental.Details.Rental.ID'\n",
       "\\item 'X01...Rental.Details.Local.Start.Time'\n",
       "\\item 'X01...Rental.Details.Local.End.Time'\n",
       "\\item 'X01...Rental.Details.Bike.ID'\n",
       "\\item 'X01...Rental.Details.Duration.In.Seconds.Uncapped'\n",
       "\\item 'X03...Rental.Start.Station.ID'\n",
       "\\item 'X03...Rental.Start.Station.Name'\n",
       "\\item 'X02...Rental.End.Station.ID'\n",
       "\\item 'X02...Rental.End.Station.Name'\n",
       "\\item 'User.Type'\n",
       "\\item 'Member.Gender'\n",
       "\\item 'X05...Member.Details.Member.Birthday.Year'\n",
       "\\end{enumerate*}\n"
      ],
      "text/markdown": [
       "1. 'X01...Rental.Details.Rental.ID'\n",
       "2. 'X01...Rental.Details.Local.Start.Time'\n",
       "3. 'X01...Rental.Details.Local.End.Time'\n",
       "4. 'X01...Rental.Details.Bike.ID'\n",
       "5. 'X01...Rental.Details.Duration.In.Seconds.Uncapped'\n",
       "6. 'X03...Rental.Start.Station.ID'\n",
       "7. 'X03...Rental.Start.Station.Name'\n",
       "8. 'X02...Rental.End.Station.ID'\n",
       "9. 'X02...Rental.End.Station.Name'\n",
       "10. 'User.Type'\n",
       "11. 'Member.Gender'\n",
       "12. 'X05...Member.Details.Member.Birthday.Year'\n",
       "\n",
       "\n"
      ],
      "text/plain": [
       " [1] \"X01...Rental.Details.Rental.ID\"                   \n",
       " [2] \"X01...Rental.Details.Local.Start.Time\"            \n",
       " [3] \"X01...Rental.Details.Local.End.Time\"              \n",
       " [4] \"X01...Rental.Details.Bike.ID\"                     \n",
       " [5] \"X01...Rental.Details.Duration.In.Seconds.Uncapped\"\n",
       " [6] \"X03...Rental.Start.Station.ID\"                    \n",
       " [7] \"X03...Rental.Start.Station.Name\"                  \n",
       " [8] \"X02...Rental.End.Station.ID\"                      \n",
       " [9] \"X02...Rental.End.Station.Name\"                    \n",
       "[10] \"User.Type\"                                        \n",
       "[11] \"Member.Gender\"                                    \n",
       "[12] \"X05...Member.Details.Member.Birthday.Year\"        "
      ]
     },
     "metadata": {},
     "output_type": "display_data"
    }
   ],
   "source": [
    "head(df_Q2)\n",
    "colnames(df_Q2)\n"
   ]
  },
  {
   "cell_type": "code",
   "execution_count": 4,
   "id": "c8d20fbf",
   "metadata": {},
   "outputs": [
    {
     "data": {
      "text/html": [
       "<table>\n",
       "<thead><tr><th scope=col>trip_id</th><th scope=col>start_time</th><th scope=col>end_time</th><th scope=col>bikeid</th><th scope=col>tripduration</th><th scope=col>from_station_id</th><th scope=col>from_station_name</th><th scope=col>to_station_id</th><th scope=col>to_station_name</th><th scope=col>usertype</th><th scope=col>gender</th><th scope=col>birthyear</th></tr></thead>\n",
       "<tbody>\n",
       "\t<tr><td>23479388                                                                 </td><td>2019-07-01 00:00:27                                                      </td><td>2019-07-01 00:20:41                                                      </td><td>3591                                                                     </td><td>1,214.0                                                                  </td><td>117                                                                      </td><td><span style=white-space:pre-wrap>Wilton Ave &amp; Belmont Ave     </span></td><td>497                                                                      </td><td><span style=white-space:pre-wrap>Kimball Ave &amp; Belmont Ave    </span></td><td>Subscriber                                                               </td><td>Male                                                                     </td><td>1992                                                                     </td></tr>\n",
       "\t<tr><td>23479389                                                                 </td><td>2019-07-01 00:01:16                                                      </td><td>2019-07-01 00:18:44                                                      </td><td>5353                                                                     </td><td>1,048.0                                                                  </td><td>381                                                                      </td><td><span style=white-space:pre-wrap>Western Ave &amp; Monroe St      </span></td><td>203                                                                      </td><td><span style=white-space:pre-wrap>Western Ave &amp; 21st St        </span></td><td><span style=white-space:pre-wrap>Customer  </span>                       </td><td><span style=white-space:pre-wrap>    </span>                             </td><td><span style=white-space:pre-wrap>  NA</span>                             </td></tr>\n",
       "\t<tr><td>23479390                                                                 </td><td>2019-07-01 00:01:48                                                      </td><td>2019-07-01 00:27:42                                                      </td><td>6180                                                                     </td><td>1,554.0                                                                  </td><td>313                                                                      </td><td>Lakeview Ave &amp; Fullerton Pkwy                                        </td><td>144                                                                      </td><td><span style=white-space:pre-wrap>Larrabee St &amp; Webster Ave    </span></td><td><span style=white-space:pre-wrap>Customer  </span>                       </td><td><span style=white-space:pre-wrap>    </span>                             </td><td><span style=white-space:pre-wrap>  NA</span>                             </td></tr>\n",
       "\t<tr><td>23479391                                                                 </td><td>2019-07-01 00:02:07                                                      </td><td>2019-07-01 00:27:10                                                      </td><td>5540                                                                     </td><td>1,503.0                                                                  </td><td>313                                                                      </td><td>Lakeview Ave &amp; Fullerton Pkwy                                        </td><td>144                                                                      </td><td><span style=white-space:pre-wrap>Larrabee St &amp; Webster Ave    </span></td><td><span style=white-space:pre-wrap>Customer  </span>                       </td><td><span style=white-space:pre-wrap>    </span>                             </td><td><span style=white-space:pre-wrap>  NA</span>                             </td></tr>\n",
       "\t<tr><td>23479392                                                                 </td><td>2019-07-01 00:02:13                                                      </td><td>2019-07-01 00:22:26                                                      </td><td>6014                                                                     </td><td>1,213.0                                                                  </td><td>168                                                                      </td><td><span style=white-space:pre-wrap>Michigan Ave &amp; 14th St       </span></td><td> 62                                                                      </td><td><span style=white-space:pre-wrap>McCormick Place              </span>    </td><td><span style=white-space:pre-wrap>Customer  </span>                       </td><td><span style=white-space:pre-wrap>    </span>                             </td><td><span style=white-space:pre-wrap>  NA</span>                             </td></tr>\n",
       "\t<tr><td>23479393                                                                 </td><td>2019-07-01 00:02:21                                                      </td><td>2019-07-01 00:07:31                                                      </td><td>4941                                                                     </td><td><span style=white-space:pre-wrap>310.0  </span>                          </td><td>300                                                                      </td><td><span style=white-space:pre-wrap>Broadway &amp; Barry Ave         </span></td><td>232                                                                      </td><td>Pine Grove Ave &amp; Waveland Ave                                        </td><td>Subscriber                                                               </td><td>Male                                                                     </td><td>1990                                                                     </td></tr>\n",
       "</tbody>\n",
       "</table>\n"
      ],
      "text/latex": [
       "\\begin{tabular}{r|llllllllllll}\n",
       " trip\\_id & start\\_time & end\\_time & bikeid & tripduration & from\\_station\\_id & from\\_station\\_name & to\\_station\\_id & to\\_station\\_name & usertype & gender & birthyear\\\\\n",
       "\\hline\n",
       "\t 23479388                        & 2019-07-01 00:00:27             & 2019-07-01 00:20:41             & 3591                            & 1,214.0                         & 117                             & Wilton Ave \\& Belmont Ave      & 497                             & Kimball Ave \\& Belmont Ave     & Subscriber                      & Male                            & 1992                           \\\\\n",
       "\t 23479389                        & 2019-07-01 00:01:16             & 2019-07-01 00:18:44             & 5353                            & 1,048.0                         & 381                             & Western Ave \\& Monroe St       & 203                             & Western Ave \\& 21st St         & Customer                        &                                 &   NA                           \\\\\n",
       "\t 23479390                        & 2019-07-01 00:01:48             & 2019-07-01 00:27:42             & 6180                            & 1,554.0                         & 313                             & Lakeview Ave \\& Fullerton Pkwy & 144                             & Larrabee St \\& Webster Ave     & Customer                        &                                 &   NA                           \\\\\n",
       "\t 23479391                        & 2019-07-01 00:02:07             & 2019-07-01 00:27:10             & 5540                            & 1,503.0                         & 313                             & Lakeview Ave \\& Fullerton Pkwy & 144                             & Larrabee St \\& Webster Ave     & Customer                        &                                 &   NA                           \\\\\n",
       "\t 23479392                        & 2019-07-01 00:02:13             & 2019-07-01 00:22:26             & 6014                            & 1,213.0                         & 168                             & Michigan Ave \\& 14th St        &  62                             & McCormick Place                 & Customer                        &                                 &   NA                           \\\\\n",
       "\t 23479393                        & 2019-07-01 00:02:21             & 2019-07-01 00:07:31             & 4941                            & 310.0                           & 300                             & Broadway \\& Barry Ave          & 232                             & Pine Grove Ave \\& Waveland Ave & Subscriber                      & Male                            & 1990                           \\\\\n",
       "\\end{tabular}\n"
      ],
      "text/markdown": [
       "\n",
       "| trip_id | start_time | end_time | bikeid | tripduration | from_station_id | from_station_name | to_station_id | to_station_name | usertype | gender | birthyear |\n",
       "|---|---|---|---|---|---|---|---|---|---|---|---|\n",
       "| 23479388                      | 2019-07-01 00:00:27           | 2019-07-01 00:20:41           | 3591                          | 1,214.0                       | 117                           | Wilton Ave & Belmont Ave      | 497                           | Kimball Ave & Belmont Ave     | Subscriber                    | Male                          | 1992                          |\n",
       "| 23479389                      | 2019-07-01 00:01:16           | 2019-07-01 00:18:44           | 5353                          | 1,048.0                       | 381                           | Western Ave & Monroe St       | 203                           | Western Ave & 21st St         | Customer                      |                               |   NA                          |\n",
       "| 23479390                      | 2019-07-01 00:01:48           | 2019-07-01 00:27:42           | 6180                          | 1,554.0                       | 313                           | Lakeview Ave & Fullerton Pkwy | 144                           | Larrabee St & Webster Ave     | Customer                      |                               |   NA                          |\n",
       "| 23479391                      | 2019-07-01 00:02:07           | 2019-07-01 00:27:10           | 5540                          | 1,503.0                       | 313                           | Lakeview Ave & Fullerton Pkwy | 144                           | Larrabee St & Webster Ave     | Customer                      |                               |   NA                          |\n",
       "| 23479392                      | 2019-07-01 00:02:13           | 2019-07-01 00:22:26           | 6014                          | 1,213.0                       | 168                           | Michigan Ave & 14th St        |  62                           | McCormick Place               | Customer                      |                               |   NA                          |\n",
       "| 23479393                      | 2019-07-01 00:02:21           | 2019-07-01 00:07:31           | 4941                          | 310.0                         | 300                           | Broadway & Barry Ave          | 232                           | Pine Grove Ave & Waveland Ave | Subscriber                    | Male                          | 1990                          |\n",
       "\n"
      ],
      "text/plain": [
       "  trip_id  start_time          end_time            bikeid tripduration\n",
       "1 23479388 2019-07-01 00:00:27 2019-07-01 00:20:41 3591   1,214.0     \n",
       "2 23479389 2019-07-01 00:01:16 2019-07-01 00:18:44 5353   1,048.0     \n",
       "3 23479390 2019-07-01 00:01:48 2019-07-01 00:27:42 6180   1,554.0     \n",
       "4 23479391 2019-07-01 00:02:07 2019-07-01 00:27:10 5540   1,503.0     \n",
       "5 23479392 2019-07-01 00:02:13 2019-07-01 00:22:26 6014   1,213.0     \n",
       "6 23479393 2019-07-01 00:02:21 2019-07-01 00:07:31 4941   310.0       \n",
       "  from_station_id from_station_name             to_station_id\n",
       "1 117             Wilton Ave & Belmont Ave      497          \n",
       "2 381             Western Ave & Monroe St       203          \n",
       "3 313             Lakeview Ave & Fullerton Pkwy 144          \n",
       "4 313             Lakeview Ave & Fullerton Pkwy 144          \n",
       "5 168             Michigan Ave & 14th St         62          \n",
       "6 300             Broadway & Barry Ave          232          \n",
       "  to_station_name               usertype   gender birthyear\n",
       "1 Kimball Ave & Belmont Ave     Subscriber Male   1992     \n",
       "2 Western Ave & 21st St         Customer            NA     \n",
       "3 Larrabee St & Webster Ave     Customer            NA     \n",
       "4 Larrabee St & Webster Ave     Customer            NA     \n",
       "5 McCormick Place               Customer            NA     \n",
       "6 Pine Grove Ave & Waveland Ave Subscriber Male   1990     "
      ]
     },
     "metadata": {},
     "output_type": "display_data"
    },
    {
     "data": {
      "text/html": [
       "<ol class=list-inline>\n",
       "\t<li>'trip_id'</li>\n",
       "\t<li>'start_time'</li>\n",
       "\t<li>'end_time'</li>\n",
       "\t<li>'bikeid'</li>\n",
       "\t<li>'tripduration'</li>\n",
       "\t<li>'from_station_id'</li>\n",
       "\t<li>'from_station_name'</li>\n",
       "\t<li>'to_station_id'</li>\n",
       "\t<li>'to_station_name'</li>\n",
       "\t<li>'usertype'</li>\n",
       "\t<li>'gender'</li>\n",
       "\t<li>'birthyear'</li>\n",
       "</ol>\n"
      ],
      "text/latex": [
       "\\begin{enumerate*}\n",
       "\\item 'trip\\_id'\n",
       "\\item 'start\\_time'\n",
       "\\item 'end\\_time'\n",
       "\\item 'bikeid'\n",
       "\\item 'tripduration'\n",
       "\\item 'from\\_station\\_id'\n",
       "\\item 'from\\_station\\_name'\n",
       "\\item 'to\\_station\\_id'\n",
       "\\item 'to\\_station\\_name'\n",
       "\\item 'usertype'\n",
       "\\item 'gender'\n",
       "\\item 'birthyear'\n",
       "\\end{enumerate*}\n"
      ],
      "text/markdown": [
       "1. 'trip_id'\n",
       "2. 'start_time'\n",
       "3. 'end_time'\n",
       "4. 'bikeid'\n",
       "5. 'tripduration'\n",
       "6. 'from_station_id'\n",
       "7. 'from_station_name'\n",
       "8. 'to_station_id'\n",
       "9. 'to_station_name'\n",
       "10. 'usertype'\n",
       "11. 'gender'\n",
       "12. 'birthyear'\n",
       "\n",
       "\n"
      ],
      "text/plain": [
       " [1] \"trip_id\"           \"start_time\"        \"end_time\"         \n",
       " [4] \"bikeid\"            \"tripduration\"      \"from_station_id\"  \n",
       " [7] \"from_station_name\" \"to_station_id\"     \"to_station_name\"  \n",
       "[10] \"usertype\"          \"gender\"            \"birthyear\"        "
      ]
     },
     "metadata": {},
     "output_type": "display_data"
    }
   ],
   "source": [
    "head(df_Q3)\n",
    "colnames(df_Q3)\n"
   ]
  },
  {
   "cell_type": "code",
   "execution_count": 5,
   "id": "3afd89ba",
   "metadata": {},
   "outputs": [
    {
     "data": {
      "text/html": [
       "<table>\n",
       "<thead><tr><th scope=col>trip_id</th><th scope=col>start_time</th><th scope=col>end_time</th><th scope=col>bikeid</th><th scope=col>tripduration</th><th scope=col>from_station_id</th><th scope=col>from_station_name</th><th scope=col>to_station_id</th><th scope=col>to_station_name</th><th scope=col>usertype</th><th scope=col>gender</th><th scope=col>birthyear</th></tr></thead>\n",
       "<tbody>\n",
       "\t<tr><td>25223640                                                                  </td><td>2019-10-01 00:01:39                                                       </td><td>2019-10-01 00:17:20                                                       </td><td>2215                                                                      </td><td><span style=white-space:pre-wrap>940.0  </span>                           </td><td> 20                                                                       </td><td><span style=white-space:pre-wrap>Sheffield Ave &amp; Kingsbury St  </span></td><td>309                                                                       </td><td><span style=white-space:pre-wrap>Leavitt St &amp; Armitage Ave  </span>   </td><td>Subscriber                                                                </td><td><span style=white-space:pre-wrap>Male  </span>                            </td><td>1987                                                                      </td></tr>\n",
       "\t<tr><td>25223641                                                               </td><td>2019-10-01 00:02:16                                                    </td><td>2019-10-01 00:06:34                                                    </td><td>6328                                                                   </td><td><span style=white-space:pre-wrap>258.0  </span>                        </td><td> 19                                                                    </td><td>Throop (Loomis) St &amp; Taylor St                                     </td><td>241                                                                    </td><td><span style=white-space:pre-wrap>Morgan St &amp; Polk St        </span></td><td>Subscriber                                                             </td><td><span style=white-space:pre-wrap>Male  </span>                         </td><td>1998                                                                   </td></tr>\n",
       "\t<tr><td>25223642                                                                  </td><td>2019-10-01 00:04:32                                                       </td><td>2019-10-01 00:18:43                                                       </td><td>3003                                                                      </td><td><span style=white-space:pre-wrap>850.0  </span>                           </td><td> 84                                                                       </td><td><span style=white-space:pre-wrap>Milwaukee Ave &amp; Grand Ave     </span></td><td>199                                                                       </td><td><span style=white-space:pre-wrap>Wabash Ave &amp; Grand Ave     </span>   </td><td>Subscriber                                                                </td><td>Female                                                                    </td><td>1991                                                                      </td></tr>\n",
       "\t<tr><td>25223643                                                               </td><td>2019-10-01 00:04:32                                                    </td><td>2019-10-01 00:43:43                                                    </td><td>3275                                                                   </td><td>2,350.0                                                                </td><td>313                                                                    </td><td>Lakeview Ave &amp; Fullerton Pkwy                                      </td><td>290                                                                    </td><td><span style=white-space:pre-wrap>Kedzie Ave &amp; Palmer Ct     </span></td><td>Subscriber                                                             </td><td><span style=white-space:pre-wrap>Male  </span>                         </td><td>1990                                                                   </td></tr>\n",
       "\t<tr><td>25223644                                                                  </td><td>2019-10-01 00:04:34                                                       </td><td>2019-10-01 00:35:42                                                       </td><td>5294                                                                      </td><td>1,867.0                                                                   </td><td>210                                                                       </td><td><span style=white-space:pre-wrap>Ashland Ave &amp; Division St     </span></td><td>382                                                                       </td><td>Western Ave &amp; Congress Pkwy                                           </td><td>Subscriber                                                                </td><td><span style=white-space:pre-wrap>Male  </span>                            </td><td>1987                                                                      </td></tr>\n",
       "\t<tr><td>25223645                                                                  </td><td>2019-10-01 00:04:38                                                       </td><td>2019-10-01 00:10:51                                                       </td><td>1891                                                                      </td><td><span style=white-space:pre-wrap>373.0  </span>                           </td><td>156                                                                       </td><td><span style=white-space:pre-wrap>Clark St &amp; Wellington Ave     </span></td><td>226                                                                       </td><td><span style=white-space:pre-wrap>Racine Ave &amp; Belmont Ave   </span>   </td><td>Subscriber                                                                </td><td>Female                                                                    </td><td>1994                                                                      </td></tr>\n",
       "</tbody>\n",
       "</table>\n"
      ],
      "text/latex": [
       "\\begin{tabular}{r|llllllllllll}\n",
       " trip\\_id & start\\_time & end\\_time & bikeid & tripduration & from\\_station\\_id & from\\_station\\_name & to\\_station\\_id & to\\_station\\_name & usertype & gender & birthyear\\\\\n",
       "\\hline\n",
       "\t 25223640                         & 2019-10-01 00:01:39              & 2019-10-01 00:17:20              & 2215                             & 940.0                            &  20                              & Sheffield Ave \\& Kingsbury St   & 309                              & Leavitt St \\& Armitage Ave      & Subscriber                       & Male                             & 1987                            \\\\\n",
       "\t 25223641                         & 2019-10-01 00:02:16              & 2019-10-01 00:06:34              & 6328                             & 258.0                            &  19                              & Throop (Loomis) St \\& Taylor St & 241                              & Morgan St \\& Polk St            & Subscriber                       & Male                             & 1998                            \\\\\n",
       "\t 25223642                         & 2019-10-01 00:04:32              & 2019-10-01 00:18:43              & 3003                             & 850.0                            &  84                              & Milwaukee Ave \\& Grand Ave      & 199                              & Wabash Ave \\& Grand Ave         & Subscriber                       & Female                           & 1991                            \\\\\n",
       "\t 25223643                         & 2019-10-01 00:04:32              & 2019-10-01 00:43:43              & 3275                             & 2,350.0                          & 313                              & Lakeview Ave \\& Fullerton Pkwy  & 290                              & Kedzie Ave \\& Palmer Ct         & Subscriber                       & Male                             & 1990                            \\\\\n",
       "\t 25223644                         & 2019-10-01 00:04:34              & 2019-10-01 00:35:42              & 5294                             & 1,867.0                          & 210                              & Ashland Ave \\& Division St      & 382                              & Western Ave \\& Congress Pkwy    & Subscriber                       & Male                             & 1987                            \\\\\n",
       "\t 25223645                         & 2019-10-01 00:04:38              & 2019-10-01 00:10:51              & 1891                             & 373.0                            & 156                              & Clark St \\& Wellington Ave      & 226                              & Racine Ave \\& Belmont Ave       & Subscriber                       & Female                           & 1994                            \\\\\n",
       "\\end{tabular}\n"
      ],
      "text/markdown": [
       "\n",
       "| trip_id | start_time | end_time | bikeid | tripduration | from_station_id | from_station_name | to_station_id | to_station_name | usertype | gender | birthyear |\n",
       "|---|---|---|---|---|---|---|---|---|---|---|---|\n",
       "| 25223640                       | 2019-10-01 00:01:39            | 2019-10-01 00:17:20            | 2215                           | 940.0                          |  20                            | Sheffield Ave & Kingsbury St   | 309                            | Leavitt St & Armitage Ave      | Subscriber                     | Male                           | 1987                           |\n",
       "| 25223641                       | 2019-10-01 00:02:16            | 2019-10-01 00:06:34            | 6328                           | 258.0                          |  19                            | Throop (Loomis) St & Taylor St | 241                            | Morgan St & Polk St            | Subscriber                     | Male                           | 1998                           |\n",
       "| 25223642                       | 2019-10-01 00:04:32            | 2019-10-01 00:18:43            | 3003                           | 850.0                          |  84                            | Milwaukee Ave & Grand Ave      | 199                            | Wabash Ave & Grand Ave         | Subscriber                     | Female                         | 1991                           |\n",
       "| 25223643                       | 2019-10-01 00:04:32            | 2019-10-01 00:43:43            | 3275                           | 2,350.0                        | 313                            | Lakeview Ave & Fullerton Pkwy  | 290                            | Kedzie Ave & Palmer Ct         | Subscriber                     | Male                           | 1990                           |\n",
       "| 25223644                       | 2019-10-01 00:04:34            | 2019-10-01 00:35:42            | 5294                           | 1,867.0                        | 210                            | Ashland Ave & Division St      | 382                            | Western Ave & Congress Pkwy    | Subscriber                     | Male                           | 1987                           |\n",
       "| 25223645                       | 2019-10-01 00:04:38            | 2019-10-01 00:10:51            | 1891                           | 373.0                          | 156                            | Clark St & Wellington Ave      | 226                            | Racine Ave & Belmont Ave       | Subscriber                     | Female                         | 1994                           |\n",
       "\n"
      ],
      "text/plain": [
       "  trip_id  start_time          end_time            bikeid tripduration\n",
       "1 25223640 2019-10-01 00:01:39 2019-10-01 00:17:20 2215   940.0       \n",
       "2 25223641 2019-10-01 00:02:16 2019-10-01 00:06:34 6328   258.0       \n",
       "3 25223642 2019-10-01 00:04:32 2019-10-01 00:18:43 3003   850.0       \n",
       "4 25223643 2019-10-01 00:04:32 2019-10-01 00:43:43 3275   2,350.0     \n",
       "5 25223644 2019-10-01 00:04:34 2019-10-01 00:35:42 5294   1,867.0     \n",
       "6 25223645 2019-10-01 00:04:38 2019-10-01 00:10:51 1891   373.0       \n",
       "  from_station_id from_station_name              to_station_id\n",
       "1  20             Sheffield Ave & Kingsbury St   309          \n",
       "2  19             Throop (Loomis) St & Taylor St 241          \n",
       "3  84             Milwaukee Ave & Grand Ave      199          \n",
       "4 313             Lakeview Ave & Fullerton Pkwy  290          \n",
       "5 210             Ashland Ave & Division St      382          \n",
       "6 156             Clark St & Wellington Ave      226          \n",
       "  to_station_name             usertype   gender birthyear\n",
       "1 Leavitt St & Armitage Ave   Subscriber Male   1987     \n",
       "2 Morgan St & Polk St         Subscriber Male   1998     \n",
       "3 Wabash Ave & Grand Ave      Subscriber Female 1991     \n",
       "4 Kedzie Ave & Palmer Ct      Subscriber Male   1990     \n",
       "5 Western Ave & Congress Pkwy Subscriber Male   1987     \n",
       "6 Racine Ave & Belmont Ave    Subscriber Female 1994     "
      ]
     },
     "metadata": {},
     "output_type": "display_data"
    },
    {
     "data": {
      "text/html": [
       "<ol class=list-inline>\n",
       "\t<li>'trip_id'</li>\n",
       "\t<li>'start_time'</li>\n",
       "\t<li>'end_time'</li>\n",
       "\t<li>'bikeid'</li>\n",
       "\t<li>'tripduration'</li>\n",
       "\t<li>'from_station_id'</li>\n",
       "\t<li>'from_station_name'</li>\n",
       "\t<li>'to_station_id'</li>\n",
       "\t<li>'to_station_name'</li>\n",
       "\t<li>'usertype'</li>\n",
       "\t<li>'gender'</li>\n",
       "\t<li>'birthyear'</li>\n",
       "</ol>\n"
      ],
      "text/latex": [
       "\\begin{enumerate*}\n",
       "\\item 'trip\\_id'\n",
       "\\item 'start\\_time'\n",
       "\\item 'end\\_time'\n",
       "\\item 'bikeid'\n",
       "\\item 'tripduration'\n",
       "\\item 'from\\_station\\_id'\n",
       "\\item 'from\\_station\\_name'\n",
       "\\item 'to\\_station\\_id'\n",
       "\\item 'to\\_station\\_name'\n",
       "\\item 'usertype'\n",
       "\\item 'gender'\n",
       "\\item 'birthyear'\n",
       "\\end{enumerate*}\n"
      ],
      "text/markdown": [
       "1. 'trip_id'\n",
       "2. 'start_time'\n",
       "3. 'end_time'\n",
       "4. 'bikeid'\n",
       "5. 'tripduration'\n",
       "6. 'from_station_id'\n",
       "7. 'from_station_name'\n",
       "8. 'to_station_id'\n",
       "9. 'to_station_name'\n",
       "10. 'usertype'\n",
       "11. 'gender'\n",
       "12. 'birthyear'\n",
       "\n",
       "\n"
      ],
      "text/plain": [
       " [1] \"trip_id\"           \"start_time\"        \"end_time\"         \n",
       " [4] \"bikeid\"            \"tripduration\"      \"from_station_id\"  \n",
       " [7] \"from_station_name\" \"to_station_id\"     \"to_station_name\"  \n",
       "[10] \"usertype\"          \"gender\"            \"birthyear\"        "
      ]
     },
     "metadata": {},
     "output_type": "display_data"
    }
   ],
   "source": [
    "head(df_Q4)\n",
    "colnames(df_Q4)"
   ]
  },
  {
   "cell_type": "markdown",
   "id": "fe0b9c3d",
   "metadata": {},
   "source": [
    "We notice that data from Q2 have different column names, so the change them in order for them to be consistent."
   ]
  },
  {
   "cell_type": "code",
   "execution_count": 6,
   "id": "a9a08688",
   "metadata": {},
   "outputs": [
    {
     "data": {
      "text/html": [
       "<ol class=list-inline>\n",
       "\t<li>'trip_id'</li>\n",
       "\t<li>'start_time'</li>\n",
       "\t<li>'end_time'</li>\n",
       "\t<li>'bikeid'</li>\n",
       "\t<li>'tripduration'</li>\n",
       "\t<li>'from_station_id'</li>\n",
       "\t<li>'from_station_name'</li>\n",
       "\t<li>'to_station_id'</li>\n",
       "\t<li>'to_station_name'</li>\n",
       "\t<li>'usertype'</li>\n",
       "\t<li>'gender'</li>\n",
       "\t<li>'birthyear'</li>\n",
       "</ol>\n"
      ],
      "text/latex": [
       "\\begin{enumerate*}\n",
       "\\item 'trip\\_id'\n",
       "\\item 'start\\_time'\n",
       "\\item 'end\\_time'\n",
       "\\item 'bikeid'\n",
       "\\item 'tripduration'\n",
       "\\item 'from\\_station\\_id'\n",
       "\\item 'from\\_station\\_name'\n",
       "\\item 'to\\_station\\_id'\n",
       "\\item 'to\\_station\\_name'\n",
       "\\item 'usertype'\n",
       "\\item 'gender'\n",
       "\\item 'birthyear'\n",
       "\\end{enumerate*}\n"
      ],
      "text/markdown": [
       "1. 'trip_id'\n",
       "2. 'start_time'\n",
       "3. 'end_time'\n",
       "4. 'bikeid'\n",
       "5. 'tripduration'\n",
       "6. 'from_station_id'\n",
       "7. 'from_station_name'\n",
       "8. 'to_station_id'\n",
       "9. 'to_station_name'\n",
       "10. 'usertype'\n",
       "11. 'gender'\n",
       "12. 'birthyear'\n",
       "\n",
       "\n"
      ],
      "text/plain": [
       " [1] \"trip_id\"           \"start_time\"        \"end_time\"         \n",
       " [4] \"bikeid\"            \"tripduration\"      \"from_station_id\"  \n",
       " [7] \"from_station_name\" \"to_station_id\"     \"to_station_name\"  \n",
       "[10] \"usertype\"          \"gender\"            \"birthyear\"        "
      ]
     },
     "metadata": {},
     "output_type": "display_data"
    }
   ],
   "source": [
    "colnames(df_Q2) <- colnames(df_Q1)\n",
    "colnames(df_Q2)"
   ]
  },
  {
   "cell_type": "markdown",
   "id": "2e63f541",
   "metadata": {},
   "source": [
    "Now that every df has the same column names, we can merge them."
   ]
  },
  {
   "cell_type": "code",
   "execution_count": 7,
   "id": "1aff9bbd",
   "metadata": {},
   "outputs": [
    {
     "data": {
      "text/html": [
       "<table>\n",
       "<thead><tr><th scope=col>trip_id</th><th scope=col>start_time</th><th scope=col>end_time</th><th scope=col>bikeid</th><th scope=col>tripduration</th><th scope=col>from_station_id</th><th scope=col>from_station_name</th><th scope=col>to_station_id</th><th scope=col>to_station_name</th><th scope=col>usertype</th><th scope=col>gender</th><th scope=col>birthyear</th></tr></thead>\n",
       "<tbody>\n",
       "\t<tr><td>21742443                                                                       </td><td>2019-01-01 00:04:37                                                            </td><td>2019-01-01 00:11:07                                                            </td><td>2167                                                                           </td><td><span style=white-space:pre-wrap>390.0  </span>                                </td><td>199                                                                            </td><td><span style=white-space:pre-wrap>Wabash Ave &amp; Grand Ave             </span></td><td> 84                                                                            </td><td><span style=white-space:pre-wrap>Milwaukee Ave &amp; Grand Ave     </span>     </td><td>Subscriber                                                                     </td><td><span style=white-space:pre-wrap>Male  </span>                                 </td><td>1989                                                                           </td></tr>\n",
       "\t<tr><td>21742444                                                                       </td><td>2019-01-01 00:08:13                                                            </td><td>2019-01-01 00:15:34                                                            </td><td>4386                                                                           </td><td><span style=white-space:pre-wrap>441.0  </span>                                </td><td> 44                                                                            </td><td><span style=white-space:pre-wrap>State St &amp; Randolph St             </span></td><td>624                                                                            </td><td>Dearborn St &amp; Van Buren St (*)                                             </td><td>Subscriber                                                                     </td><td>Female                                                                         </td><td>1990                                                                           </td></tr>\n",
       "\t<tr><td>21742445                                                                       </td><td>2019-01-01 00:13:23                                                            </td><td>2019-01-01 00:27:12                                                            </td><td>1524                                                                           </td><td><span style=white-space:pre-wrap>829.0  </span>                                </td><td> 15                                                                            </td><td><span style=white-space:pre-wrap>Racine Ave &amp; 18th St               </span></td><td>644                                                                            </td><td>Western Ave &amp; Fillmore St (*)                                              </td><td>Subscriber                                                                     </td><td>Female                                                                         </td><td>1994                                                                           </td></tr>\n",
       "\t<tr><td>21742446                                                                       </td><td>2019-01-01 00:13:45                                                            </td><td>2019-01-01 00:43:28                                                            </td><td> 252                                                                           </td><td>1,783.0                                                                        </td><td>123                                                                            </td><td><span style=white-space:pre-wrap>California Ave &amp; Milwaukee Ave     </span></td><td>176                                                                            </td><td><span style=white-space:pre-wrap>Clark St &amp; Elm St             </span>     </td><td>Subscriber                                                                     </td><td><span style=white-space:pre-wrap>Male  </span>                                 </td><td>1993                                                                           </td></tr>\n",
       "\t<tr><td>21742447                                                                  </td><td>2019-01-01 00:14:52                                                       </td><td>2019-01-01 00:20:56                                                       </td><td>1170                                                                      </td><td><span style=white-space:pre-wrap>364.0  </span>                           </td><td>173                                                                       </td><td>Mies van der Rohe Way &amp; Chicago Ave                                   </td><td> 35                                                                       </td><td><span style=white-space:pre-wrap>Streeter Dr &amp; Grand Ave       </span></td><td>Subscriber                                                                </td><td><span style=white-space:pre-wrap>Male  </span>                            </td><td>1994                                                                      </td></tr>\n",
       "\t<tr><td>21742448                                                                       </td><td>2019-01-01 00:15:33                                                            </td><td>2019-01-01 00:19:09                                                            </td><td>2437                                                                           </td><td><span style=white-space:pre-wrap>216.0  </span>                                </td><td> 98                                                                            </td><td><span style=white-space:pre-wrap>LaSalle St &amp; Washington St         </span></td><td> 49                                                                            </td><td><span style=white-space:pre-wrap>Dearborn St &amp; Monroe St       </span>     </td><td>Subscriber                                                                     </td><td>Female                                                                         </td><td>1983                                                                           </td></tr>\n",
       "</tbody>\n",
       "</table>\n"
      ],
      "text/latex": [
       "\\begin{tabular}{r|llllllllllll}\n",
       " trip\\_id & start\\_time & end\\_time & bikeid & tripduration & from\\_station\\_id & from\\_station\\_name & to\\_station\\_id & to\\_station\\_name & usertype & gender & birthyear\\\\\n",
       "\\hline\n",
       "\t 21742443                              & 2019-01-01 00:04:37                   & 2019-01-01 00:11:07                   & 2167                                  & 390.0                                 & 199                                   & Wabash Ave \\& Grand Ave              &  84                                   & Milwaukee Ave \\& Grand Ave           & Subscriber                            & Male                                  & 1989                                 \\\\\n",
       "\t 21742444                              & 2019-01-01 00:08:13                   & 2019-01-01 00:15:34                   & 4386                                  & 441.0                                 &  44                                   & State St \\& Randolph St              & 624                                   & Dearborn St \\& Van Buren St (*)      & Subscriber                            & Female                                & 1990                                 \\\\\n",
       "\t 21742445                              & 2019-01-01 00:13:23                   & 2019-01-01 00:27:12                   & 1524                                  & 829.0                                 &  15                                   & Racine Ave \\& 18th St                & 644                                   & Western Ave \\& Fillmore St (*)       & Subscriber                            & Female                                & 1994                                 \\\\\n",
       "\t 21742446                              & 2019-01-01 00:13:45                   & 2019-01-01 00:43:28                   &  252                                  & 1,783.0                               & 123                                   & California Ave \\& Milwaukee Ave      & 176                                   & Clark St \\& Elm St                   & Subscriber                            & Male                                  & 1993                                 \\\\\n",
       "\t 21742447                              & 2019-01-01 00:14:52                   & 2019-01-01 00:20:56                   & 1170                                  & 364.0                                 & 173                                   & Mies van der Rohe Way \\& Chicago Ave &  35                                   & Streeter Dr \\& Grand Ave             & Subscriber                            & Male                                  & 1994                                 \\\\\n",
       "\t 21742448                              & 2019-01-01 00:15:33                   & 2019-01-01 00:19:09                   & 2437                                  & 216.0                                 &  98                                   & LaSalle St \\& Washington St          &  49                                   & Dearborn St \\& Monroe St             & Subscriber                            & Female                                & 1983                                 \\\\\n",
       "\\end{tabular}\n"
      ],
      "text/markdown": [
       "\n",
       "| trip_id | start_time | end_time | bikeid | tripduration | from_station_id | from_station_name | to_station_id | to_station_name | usertype | gender | birthyear |\n",
       "|---|---|---|---|---|---|---|---|---|---|---|---|\n",
       "| 21742443                            | 2019-01-01 00:04:37                 | 2019-01-01 00:11:07                 | 2167                                | 390.0                               | 199                                 | Wabash Ave & Grand Ave              |  84                                 | Milwaukee Ave & Grand Ave           | Subscriber                          | Male                                | 1989                                |\n",
       "| 21742444                            | 2019-01-01 00:08:13                 | 2019-01-01 00:15:34                 | 4386                                | 441.0                               |  44                                 | State St & Randolph St              | 624                                 | Dearborn St & Van Buren St (*)      | Subscriber                          | Female                              | 1990                                |\n",
       "| 21742445                            | 2019-01-01 00:13:23                 | 2019-01-01 00:27:12                 | 1524                                | 829.0                               |  15                                 | Racine Ave & 18th St                | 644                                 | Western Ave & Fillmore St (*)       | Subscriber                          | Female                              | 1994                                |\n",
       "| 21742446                            | 2019-01-01 00:13:45                 | 2019-01-01 00:43:28                 |  252                                | 1,783.0                             | 123                                 | California Ave & Milwaukee Ave      | 176                                 | Clark St & Elm St                   | Subscriber                          | Male                                | 1993                                |\n",
       "| 21742447                            | 2019-01-01 00:14:52                 | 2019-01-01 00:20:56                 | 1170                                | 364.0                               | 173                                 | Mies van der Rohe Way & Chicago Ave |  35                                 | Streeter Dr & Grand Ave             | Subscriber                          | Male                                | 1994                                |\n",
       "| 21742448                            | 2019-01-01 00:15:33                 | 2019-01-01 00:19:09                 | 2437                                | 216.0                               |  98                                 | LaSalle St & Washington St          |  49                                 | Dearborn St & Monroe St             | Subscriber                          | Female                              | 1983                                |\n",
       "\n"
      ],
      "text/plain": [
       "  trip_id  start_time          end_time            bikeid tripduration\n",
       "1 21742443 2019-01-01 00:04:37 2019-01-01 00:11:07 2167   390.0       \n",
       "2 21742444 2019-01-01 00:08:13 2019-01-01 00:15:34 4386   441.0       \n",
       "3 21742445 2019-01-01 00:13:23 2019-01-01 00:27:12 1524   829.0       \n",
       "4 21742446 2019-01-01 00:13:45 2019-01-01 00:43:28  252   1,783.0     \n",
       "5 21742447 2019-01-01 00:14:52 2019-01-01 00:20:56 1170   364.0       \n",
       "6 21742448 2019-01-01 00:15:33 2019-01-01 00:19:09 2437   216.0       \n",
       "  from_station_id from_station_name                   to_station_id\n",
       "1 199             Wabash Ave & Grand Ave               84          \n",
       "2  44             State St & Randolph St              624          \n",
       "3  15             Racine Ave & 18th St                644          \n",
       "4 123             California Ave & Milwaukee Ave      176          \n",
       "5 173             Mies van der Rohe Way & Chicago Ave  35          \n",
       "6  98             LaSalle St & Washington St           49          \n",
       "  to_station_name                usertype   gender birthyear\n",
       "1 Milwaukee Ave & Grand Ave      Subscriber Male   1989     \n",
       "2 Dearborn St & Van Buren St (*) Subscriber Female 1990     \n",
       "3 Western Ave & Fillmore St (*)  Subscriber Female 1994     \n",
       "4 Clark St & Elm St              Subscriber Male   1993     \n",
       "5 Streeter Dr & Grand Ave        Subscriber Male   1994     \n",
       "6 Dearborn St & Monroe St        Subscriber Female 1983     "
      ]
     },
     "metadata": {},
     "output_type": "display_data"
    },
    {
     "name": "stdout",
     "output_type": "stream",
     "text": [
      "'data.frame':\t3818004 obs. of  12 variables:\n",
      " $ trip_id          : int  21742443 21742444 21742445 21742446 21742447 21742448 21742449 21742450 21742451 21742452 ...\n",
      " $ start_time       : Factor w/ 3306090 levels \"2019-01-01 00:04:37\",..: 1 2 3 4 5 6 7 8 9 10 ...\n",
      " $ end_time         : Factor w/ 3238342 levels \"2019-01-01 00:11:07\",..: 1 2 9 17 6 4 3 5 20 7 ...\n",
      " $ bikeid           : int  2167 4386 1524 252 1170 2437 2708 2796 6205 3939 ...\n",
      " $ tripduration     : Factor w/ 21542 levels \"1,000.0\",\"1,001.0\",..: 3769 4494 6263 789 3734 2576 1495 1115 732 3686 ...\n",
      " $ from_station_id  : int  199 44 15 123 173 98 98 211 150 268 ...\n",
      " $ from_station_name: Factor w/ 640 levels \"2112 W Peterson Ave\",..: 540 510 429 71 375 328 328 497 228 309 ...\n",
      " $ to_station_id    : int  84 624 644 176 35 49 49 142 148 141 ...\n",
      " $ to_station_name  : Factor w/ 641 levels \"2112 W Peterson Ave\",..: 383 189 573 120 527 188 188 365 506 127 ...\n",
      " $ usertype         : Factor w/ 2 levels \"Customer\",\"Subscriber\": 2 2 2 2 2 2 2 2 2 2 ...\n",
      " $ gender           : Factor w/ 3 levels \"\",\"Female\",\"Male\": 3 2 2 3 3 2 3 3 3 3 ...\n",
      " $ birthyear        : int  1989 1990 1994 1993 1994 1983 1984 1990 1995 1996 ...\n"
     ]
    }
   ],
   "source": [
    "merged <- rbind(df_Q1, df_Q2, df_Q3, df_Q4)\n",
    "head(merged)\n",
    "str(merged)"
   ]
  },
  {
   "cell_type": "markdown",
   "id": "0ac50f98",
   "metadata": {},
   "source": [
    "We notice that *gender* has 3 levels, \"\", \"Female\" and \"Male\", but empty string is not a good value so we choose to change it to \"Not Given\""
   ]
  },
  {
   "cell_type": "code",
   "execution_count": 8,
   "id": "51946cd9",
   "metadata": {},
   "outputs": [
    {
     "name": "stdout",
     "output_type": "stream",
     "text": [
      " Factor w/ 4 levels \"\",\"Female\",\"Male\",..: 3 2 2 3 3 2 3 3 3 3 ...\n"
     ]
    }
   ],
   "source": [
    "levels(merged$gender) <- c(levels(merged$gender), \"Not Given\")\n",
    "str(merged$gender)"
   ]
  },
  {
   "cell_type": "code",
   "execution_count": 9,
   "id": "1577b9be",
   "metadata": {},
   "outputs": [
    {
     "name": "stdout",
     "output_type": "stream",
     "text": [
      " Factor w/ 4 levels \"\",\"Female\",\"Male\",..: 3 2 2 3 3 2 3 3 3 3 ...\n"
     ]
    },
    {
     "data": {
      "text/html": [
       "0"
      ],
      "text/latex": [
       "0"
      ],
      "text/markdown": [
       "0"
      ],
      "text/plain": [
       "[1] 0"
      ]
     },
     "metadata": {},
     "output_type": "display_data"
    }
   ],
   "source": [
    "merged$gender[merged$gender==\"\"] <- \"Not Given\"\n",
    "str(merged$gender)\n",
    "length(merged$gender[merged$gender==\"\"])"
   ]
  },
  {
   "cell_type": "markdown",
   "id": "5a08f48b",
   "metadata": {},
   "source": [
    "We now check for NA values "
   ]
  },
  {
   "cell_type": "code",
   "execution_count": 10,
   "id": "50548535",
   "metadata": {},
   "outputs": [
    {
     "name": "stdout",
     "output_type": "stream",
     "text": [
      "trip_id : 0\n",
      "start_time : 0\n",
      "end_time : 0\n",
      "bikeid : 0\n",
      "tripduration : 0\n",
      "from_station_id : 0\n",
      "from_station_name : 0\n",
      "to_station_id : 0\n",
      "to_station_name : 0\n",
      "usertype : 0\n",
      "gender : 0\n",
      "birthyear : 538751\n"
     ]
    }
   ],
   "source": [
    "for(i in 1:ncol(merged)){\n",
    "  cat(sprintf(\"%s : %d\\n\", colnames(merged)[i], sum(is.na(merged[,i]))))\n",
    "}"
   ]
  },
  {
   "cell_type": "markdown",
   "id": "19fe6500",
   "metadata": {},
   "source": [
    "Only some *birthyear* is NA, which is not a problem at all."
   ]
  },
  {
   "cell_type": "markdown",
   "id": "c4ee79cb",
   "metadata": {},
   "source": [
    "Now we want to add the day of the ride"
   ]
  },
  {
   "cell_type": "code",
   "execution_count": 11,
   "id": "42ed961e",
   "metadata": {},
   "outputs": [],
   "source": [
    "merged$day_of_week <- format(as.Date(merged$start_time,format=\"%Y-%m-%d\"), format = \"%A\")\n"
   ]
  },
  {
   "cell_type": "code",
   "execution_count": 12,
   "id": "819a339c",
   "metadata": {},
   "outputs": [],
   "source": [
    "merged$day <- format(as.Date(merged$start_time,format=\"%Y-%m-%d\"), format = \"%u\")\n"
   ]
  },
  {
   "cell_type": "code",
   "execution_count": 13,
   "id": "a1fb70f1",
   "metadata": {},
   "outputs": [],
   "source": [
    "merged$month <- format(as.Date(merged$start_time,format=\"%Y-%m-%d\"), format = \"%m\")\n"
   ]
  },
  {
   "cell_type": "code",
   "execution_count": 14,
   "id": "debb4aab",
   "metadata": {},
   "outputs": [],
   "source": [
    "merged$year <- format(as.Date(merged$start_time,format=\"%Y-%m-%d\"), format = \"%Y\")\n"
   ]
  },
  {
   "cell_type": "markdown",
   "id": "acdb6615",
   "metadata": {},
   "source": [
    "Now we notice thare *tripduration* is stored as character, we decide to convert it to double"
   ]
  },
  {
   "cell_type": "code",
   "execution_count": 15,
   "id": "03b88a7a",
   "metadata": {},
   "outputs": [
    {
     "name": "stderr",
     "output_type": "stream",
     "text": [
      "Warning message:\n",
      "\"package 'stringr' was built under R version 3.6.3\""
     ]
    }
   ],
   "source": [
    "#install.packages(\"stringr\")\n",
    "library(stringr)\n",
    "merged$tripduration <- str_replace_all(merged$tripduration, \",\", \"\")\n",
    "merged$tripduration <- as.double(merged$tripduration)"
   ]
  },
  {
   "cell_type": "markdown",
   "id": "12a7c1c4",
   "metadata": {},
   "source": [
    "### Analyze phase"
   ]
  },
  {
   "cell_type": "code",
   "execution_count": 16,
   "id": "77524583",
   "metadata": {},
   "outputs": [
    {
     "data": {
      "text/plain": [
       "    Min.  1st Qu.   Median     Mean  3rd Qu.     Max. \n",
       "      61      411      709     1450     1283 10628400 "
      ]
     },
     "metadata": {},
     "output_type": "display_data"
    }
   ],
   "source": [
    "summary(merged$tripduration)"
   ]
  },
  {
   "cell_type": "markdown",
   "id": "5c073c4e",
   "metadata": {},
   "source": [
    "We can notice that 50% of the rides ore no longher then 12 minutes."
   ]
  },
  {
   "cell_type": "markdown",
   "id": "da90837e",
   "metadata": {},
   "source": [
    "Let's now compare subscriber and casual members mean."
   ]
  },
  {
   "cell_type": "code",
   "execution_count": 17,
   "id": "c3fda9d3",
   "metadata": {},
   "outputs": [
    {
     "data": {
      "text/html": [
       "<table>\n",
       "<thead><tr><th scope=col>merged$usertype</th><th scope=col>merged$tripduration</th></tr></thead>\n",
       "<tbody>\n",
       "\t<tr><td>Customer  </td><td>3420.8857 </td></tr>\n",
       "\t<tr><td>Subscriber</td><td> 859.3833 </td></tr>\n",
       "</tbody>\n",
       "</table>\n"
      ],
      "text/latex": [
       "\\begin{tabular}{r|ll}\n",
       " merged\\$usertype & merged\\$tripduration\\\\\n",
       "\\hline\n",
       "\t Customer   & 3420.8857 \\\\\n",
       "\t Subscriber &  859.3833 \\\\\n",
       "\\end{tabular}\n"
      ],
      "text/markdown": [
       "\n",
       "| merged$usertype | merged$tripduration |\n",
       "|---|---|\n",
       "| Customer   | 3420.8857  |\n",
       "| Subscriber |  859.3833  |\n",
       "\n"
      ],
      "text/plain": [
       "  merged$usertype merged$tripduration\n",
       "1 Customer        3420.8857          \n",
       "2 Subscriber       859.3833          "
      ]
     },
     "metadata": {},
     "output_type": "display_data"
    }
   ],
   "source": [
    "aggregate(merged$tripduration ~ merged$usertype, FUN = mean)\n",
    "\n"
   ]
  },
  {
   "cell_type": "markdown",
   "id": "8a921fe4",
   "metadata": {},
   "source": [
    "Let's now compare subscriber and casual members median."
   ]
  },
  {
   "cell_type": "code",
   "execution_count": 18,
   "id": "abc49014",
   "metadata": {},
   "outputs": [
    {
     "data": {
      "text/html": [
       "<table>\n",
       "<thead><tr><th scope=col>merged$usertype</th><th scope=col>merged$tripduration</th></tr></thead>\n",
       "<tbody>\n",
       "\t<tr><td>Customer  </td><td>1549      </td></tr>\n",
       "\t<tr><td>Subscriber</td><td> 588      </td></tr>\n",
       "</tbody>\n",
       "</table>\n"
      ],
      "text/latex": [
       "\\begin{tabular}{r|ll}\n",
       " merged\\$usertype & merged\\$tripduration\\\\\n",
       "\\hline\n",
       "\t Customer   & 1549      \\\\\n",
       "\t Subscriber &  588      \\\\\n",
       "\\end{tabular}\n"
      ],
      "text/markdown": [
       "\n",
       "| merged$usertype | merged$tripduration |\n",
       "|---|---|\n",
       "| Customer   | 1549       |\n",
       "| Subscriber |  588       |\n",
       "\n"
      ],
      "text/plain": [
       "  merged$usertype merged$tripduration\n",
       "1 Customer        1549               \n",
       "2 Subscriber       588               "
      ]
     },
     "metadata": {},
     "output_type": "display_data"
    }
   ],
   "source": [
    "aggregate(merged$tripduration ~ merged$usertype, FUN = median)\n"
   ]
  },
  {
   "cell_type": "markdown",
   "id": "9e5b0a91",
   "metadata": {},
   "source": [
    "Let's now compare subscriber and casual members max."
   ]
  },
  {
   "cell_type": "code",
   "execution_count": 19,
   "id": "4d211999",
   "metadata": {},
   "outputs": [
    {
     "data": {
      "text/html": [
       "<table>\n",
       "<thead><tr><th scope=col>merged$usertype</th><th scope=col>merged$tripduration</th></tr></thead>\n",
       "<tbody>\n",
       "\t<tr><td>Customer  </td><td>10628400  </td></tr>\n",
       "\t<tr><td>Subscriber</td><td> 9056633  </td></tr>\n",
       "</tbody>\n",
       "</table>\n"
      ],
      "text/latex": [
       "\\begin{tabular}{r|ll}\n",
       " merged\\$usertype & merged\\$tripduration\\\\\n",
       "\\hline\n",
       "\t Customer   & 10628400  \\\\\n",
       "\t Subscriber &  9056633  \\\\\n",
       "\\end{tabular}\n"
      ],
      "text/markdown": [
       "\n",
       "| merged$usertype | merged$tripduration |\n",
       "|---|---|\n",
       "| Customer   | 10628400   |\n",
       "| Subscriber |  9056633   |\n",
       "\n"
      ],
      "text/plain": [
       "  merged$usertype merged$tripduration\n",
       "1 Customer        10628400           \n",
       "2 Subscriber       9056633           "
      ]
     },
     "metadata": {},
     "output_type": "display_data"
    }
   ],
   "source": [
    "aggregate(merged$tripduration ~ merged$usertype, FUN = max)\n"
   ]
  },
  {
   "cell_type": "markdown",
   "id": "b89ed564",
   "metadata": {},
   "source": [
    "Let's now compare subscriber and casual members min."
   ]
  },
  {
   "cell_type": "code",
   "execution_count": 20,
   "id": "1e321d60",
   "metadata": {},
   "outputs": [
    {
     "data": {
      "text/html": [
       "<table>\n",
       "<thead><tr><th scope=col>merged$usertype</th><th scope=col>merged$tripduration</th></tr></thead>\n",
       "<tbody>\n",
       "\t<tr><td>Customer  </td><td>61        </td></tr>\n",
       "\t<tr><td>Subscriber</td><td>61        </td></tr>\n",
       "</tbody>\n",
       "</table>\n"
      ],
      "text/latex": [
       "\\begin{tabular}{r|ll}\n",
       " merged\\$usertype & merged\\$tripduration\\\\\n",
       "\\hline\n",
       "\t Customer   & 61        \\\\\n",
       "\t Subscriber & 61        \\\\\n",
       "\\end{tabular}\n"
      ],
      "text/markdown": [
       "\n",
       "| merged$usertype | merged$tripduration |\n",
       "|---|---|\n",
       "| Customer   | 61         |\n",
       "| Subscriber | 61         |\n",
       "\n"
      ],
      "text/plain": [
       "  merged$usertype merged$tripduration\n",
       "1 Customer        61                 \n",
       "2 Subscriber      61                 "
      ]
     },
     "metadata": {},
     "output_type": "display_data"
    }
   ],
   "source": [
    "aggregate(merged$tripduration ~ merged$usertype, FUN = min)"
   ]
  },
  {
   "cell_type": "markdown",
   "id": "1a4c5feb",
   "metadata": {},
   "source": [
    "Let's now check the average trip time by day, per customer type"
   ]
  },
  {
   "cell_type": "code",
   "execution_count": 21,
   "id": "a9a0dfa2",
   "metadata": {},
   "outputs": [
    {
     "data": {
      "text/html": [
       "<table>\n",
       "<thead><tr><th scope=col>merged$usertype</th><th scope=col>merged$day_of_week</th><th scope=col>merged$tripduration</th></tr></thead>\n",
       "<tbody>\n",
       "\t<tr><td>Customer  </td><td>domenica  </td><td>3370.8448 </td></tr>\n",
       "\t<tr><td>Subscriber</td><td>domenica  </td><td> 923.8375 </td></tr>\n",
       "\t<tr><td>Customer  </td><td>giovedì   </td><td>3596.7864 </td></tr>\n",
       "\t<tr><td>Subscriber</td><td>giovedì   </td><td> 826.5039 </td></tr>\n",
       "\t<tr><td>Customer  </td><td>lunedì    </td><td>3269.7334 </td></tr>\n",
       "\t<tr><td>Subscriber</td><td>lunedì    </td><td> 854.6510 </td></tr>\n",
       "\t<tr><td>Customer  </td><td>martedì   </td><td>3444.5548 </td></tr>\n",
       "\t<tr><td>Subscriber</td><td>martedì   </td><td> 848.8744 </td></tr>\n",
       "\t<tr><td>Customer  </td><td>mercoledì </td><td>3619.9636 </td></tr>\n",
       "\t<tr><td>Subscriber</td><td>mercoledì </td><td> 828.3104 </td></tr>\n",
       "\t<tr><td>Customer  </td><td>sabato    </td><td>3243.5687 </td></tr>\n",
       "\t<tr><td>Subscriber</td><td>sabato    </td><td> 977.9140 </td></tr>\n",
       "\t<tr><td>Customer  </td><td>venerdì   </td><td>3610.3514 </td></tr>\n",
       "\t<tr><td>Subscriber</td><td>venerdì   </td><td> 833.5801 </td></tr>\n",
       "</tbody>\n",
       "</table>\n"
      ],
      "text/latex": [
       "\\begin{tabular}{r|lll}\n",
       " merged\\$usertype & merged\\$day\\_of\\_week & merged\\$tripduration\\\\\n",
       "\\hline\n",
       "\t Customer   & domenica   & 3370.8448 \\\\\n",
       "\t Subscriber & domenica   &  923.8375 \\\\\n",
       "\t Customer   & giovedì    & 3596.7864 \\\\\n",
       "\t Subscriber & giovedì    &  826.5039 \\\\\n",
       "\t Customer   & lunedì     & 3269.7334 \\\\\n",
       "\t Subscriber & lunedì     &  854.6510 \\\\\n",
       "\t Customer   & martedì    & 3444.5548 \\\\\n",
       "\t Subscriber & martedì    &  848.8744 \\\\\n",
       "\t Customer   & mercoledì  & 3619.9636 \\\\\n",
       "\t Subscriber & mercoledì  &  828.3104 \\\\\n",
       "\t Customer   & sabato     & 3243.5687 \\\\\n",
       "\t Subscriber & sabato     &  977.9140 \\\\\n",
       "\t Customer   & venerdì    & 3610.3514 \\\\\n",
       "\t Subscriber & venerdì    &  833.5801 \\\\\n",
       "\\end{tabular}\n"
      ],
      "text/markdown": [
       "\n",
       "| merged$usertype | merged$day_of_week | merged$tripduration |\n",
       "|---|---|---|\n",
       "| Customer   | domenica   | 3370.8448  |\n",
       "| Subscriber | domenica   |  923.8375  |\n",
       "| Customer   | giovedì    | 3596.7864  |\n",
       "| Subscriber | giovedì    |  826.5039  |\n",
       "| Customer   | lunedì     | 3269.7334  |\n",
       "| Subscriber | lunedì     |  854.6510  |\n",
       "| Customer   | martedì    | 3444.5548  |\n",
       "| Subscriber | martedì    |  848.8744  |\n",
       "| Customer   | mercoledì  | 3619.9636  |\n",
       "| Subscriber | mercoledì  |  828.3104  |\n",
       "| Customer   | sabato     | 3243.5687  |\n",
       "| Subscriber | sabato     |  977.9140  |\n",
       "| Customer   | venerdì    | 3610.3514  |\n",
       "| Subscriber | venerdì    |  833.5801  |\n",
       "\n"
      ],
      "text/plain": [
       "   merged$usertype merged$day_of_week merged$tripduration\n",
       "1  Customer        domenica           3370.8448          \n",
       "2  Subscriber      domenica            923.8375          \n",
       "3  Customer        giovedì            3596.7864          \n",
       "4  Subscriber      giovedì             826.5039          \n",
       "5  Customer        lunedì             3269.7334          \n",
       "6  Subscriber      lunedì              854.6510          \n",
       "7  Customer        martedì            3444.5548          \n",
       "8  Subscriber      martedì             848.8744          \n",
       "9  Customer        mercoledì          3619.9636          \n",
       "10 Subscriber      mercoledì           828.3104          \n",
       "11 Customer        sabato             3243.5687          \n",
       "12 Subscriber      sabato              977.9140          \n",
       "13 Customer        venerdì            3610.3514          \n",
       "14 Subscriber      venerdì             833.5801          "
      ]
     },
     "metadata": {},
     "output_type": "display_data"
    }
   ],
   "source": [
    "aggregate(merged$tripduration ~ merged$usertype + merged$day_of_week, FUN = mean)\n"
   ]
  },
  {
   "cell_type": "markdown",
   "id": "6a1d4673",
   "metadata": {},
   "source": [
    "We notice days are not ordered, so we sort them."
   ]
  },
  {
   "cell_type": "code",
   "execution_count": 22,
   "id": "2a74589a",
   "metadata": {},
   "outputs": [],
   "source": [
    "merged$day_of_week <- ordered(merged$day_of_week, levels=c(\"domenica\", \"lunedì\", \"martedì\", \"mercoledì\", \"giovedì\", \"venerdì\", \"sabato\"))\n"
   ]
  },
  {
   "cell_type": "code",
   "execution_count": 23,
   "id": "862b8268",
   "metadata": {},
   "outputs": [
    {
     "data": {
      "text/html": [
       "<table>\n",
       "<thead><tr><th scope=col>merged$usertype</th><th scope=col>merged$day_of_week</th><th scope=col>merged$tripduration</th></tr></thead>\n",
       "<tbody>\n",
       "\t<tr><td>Customer  </td><td>domenica  </td><td>3370.8448 </td></tr>\n",
       "\t<tr><td>Subscriber</td><td>domenica  </td><td> 923.8375 </td></tr>\n",
       "\t<tr><td>Customer  </td><td>lunedì    </td><td>3269.7334 </td></tr>\n",
       "\t<tr><td>Subscriber</td><td>lunedì    </td><td> 854.6510 </td></tr>\n",
       "\t<tr><td>Customer  </td><td>martedì   </td><td>3444.5548 </td></tr>\n",
       "\t<tr><td>Subscriber</td><td>martedì   </td><td> 848.8744 </td></tr>\n",
       "\t<tr><td>Customer  </td><td>mercoledì </td><td>3619.9636 </td></tr>\n",
       "\t<tr><td>Subscriber</td><td>mercoledì </td><td> 828.3104 </td></tr>\n",
       "\t<tr><td>Customer  </td><td>giovedì   </td><td>3596.7864 </td></tr>\n",
       "\t<tr><td>Subscriber</td><td>giovedì   </td><td> 826.5039 </td></tr>\n",
       "\t<tr><td>Customer  </td><td>venerdì   </td><td>3610.3514 </td></tr>\n",
       "\t<tr><td>Subscriber</td><td>venerdì   </td><td> 833.5801 </td></tr>\n",
       "\t<tr><td>Customer  </td><td>sabato    </td><td>3243.5687 </td></tr>\n",
       "\t<tr><td>Subscriber</td><td>sabato    </td><td> 977.9140 </td></tr>\n",
       "</tbody>\n",
       "</table>\n"
      ],
      "text/latex": [
       "\\begin{tabular}{r|lll}\n",
       " merged\\$usertype & merged\\$day\\_of\\_week & merged\\$tripduration\\\\\n",
       "\\hline\n",
       "\t Customer   & domenica   & 3370.8448 \\\\\n",
       "\t Subscriber & domenica   &  923.8375 \\\\\n",
       "\t Customer   & lunedì     & 3269.7334 \\\\\n",
       "\t Subscriber & lunedì     &  854.6510 \\\\\n",
       "\t Customer   & martedì    & 3444.5548 \\\\\n",
       "\t Subscriber & martedì    &  848.8744 \\\\\n",
       "\t Customer   & mercoledì  & 3619.9636 \\\\\n",
       "\t Subscriber & mercoledì  &  828.3104 \\\\\n",
       "\t Customer   & giovedì    & 3596.7864 \\\\\n",
       "\t Subscriber & giovedì    &  826.5039 \\\\\n",
       "\t Customer   & venerdì    & 3610.3514 \\\\\n",
       "\t Subscriber & venerdì    &  833.5801 \\\\\n",
       "\t Customer   & sabato     & 3243.5687 \\\\\n",
       "\t Subscriber & sabato     &  977.9140 \\\\\n",
       "\\end{tabular}\n"
      ],
      "text/markdown": [
       "\n",
       "| merged$usertype | merged$day_of_week | merged$tripduration |\n",
       "|---|---|---|\n",
       "| Customer   | domenica   | 3370.8448  |\n",
       "| Subscriber | domenica   |  923.8375  |\n",
       "| Customer   | lunedì     | 3269.7334  |\n",
       "| Subscriber | lunedì     |  854.6510  |\n",
       "| Customer   | martedì    | 3444.5548  |\n",
       "| Subscriber | martedì    |  848.8744  |\n",
       "| Customer   | mercoledì  | 3619.9636  |\n",
       "| Subscriber | mercoledì  |  828.3104  |\n",
       "| Customer   | giovedì    | 3596.7864  |\n",
       "| Subscriber | giovedì    |  826.5039  |\n",
       "| Customer   | venerdì    | 3610.3514  |\n",
       "| Subscriber | venerdì    |  833.5801  |\n",
       "| Customer   | sabato     | 3243.5687  |\n",
       "| Subscriber | sabato     |  977.9140  |\n",
       "\n"
      ],
      "text/plain": [
       "   merged$usertype merged$day_of_week merged$tripduration\n",
       "1  Customer        domenica           3370.8448          \n",
       "2  Subscriber      domenica            923.8375          \n",
       "3  Customer        lunedì             3269.7334          \n",
       "4  Subscriber      lunedì              854.6510          \n",
       "5  Customer        martedì            3444.5548          \n",
       "6  Subscriber      martedì             848.8744          \n",
       "7  Customer        mercoledì          3619.9636          \n",
       "8  Subscriber      mercoledì           828.3104          \n",
       "9  Customer        giovedì            3596.7864          \n",
       "10 Subscriber      giovedì             826.5039          \n",
       "11 Customer        venerdì            3610.3514          \n",
       "12 Subscriber      venerdì             833.5801          \n",
       "13 Customer        sabato             3243.5687          \n",
       "14 Subscriber      sabato              977.9140          "
      ]
     },
     "metadata": {},
     "output_type": "display_data"
    }
   ],
   "source": [
    "aggregate(merged$tripduration ~ merged$usertype + merged$day_of_week, FUN = mean)\n"
   ]
  },
  {
   "cell_type": "markdown",
   "id": "a1a7e9d4",
   "metadata": {},
   "source": [
    "Let's now analyze trip duration per time per different customers"
   ]
  },
  {
   "cell_type": "code",
   "execution_count": 24,
   "id": "3e017e8c",
   "metadata": {},
   "outputs": [
    {
     "name": "stderr",
     "output_type": "stream",
     "text": [
      "Warning message:\n",
      "\"package 'dplyr' was built under R version 3.6.3\"\n",
      "Attaching package: 'dplyr'\n",
      "\n",
      "The following objects are masked from 'package:stats':\n",
      "\n",
      "    filter, lag\n",
      "\n",
      "The following objects are masked from 'package:base':\n",
      "\n",
      "    intersect, setdiff, setequal, union\n",
      "\n",
      "Warning message:\n",
      "\"package 'lubridate' was built under R version 3.6.3\"\n",
      "Attaching package: 'lubridate'\n",
      "\n",
      "The following objects are masked from 'package:base':\n",
      "\n",
      "    date, intersect, setdiff, union\n",
      "\n",
      "`summarise()` has grouped output by 'usertype'. You can override using the `.groups` argument.\n"
     ]
    },
    {
     "data": {
      "text/html": [
       "<table>\n",
       "<thead><tr><th scope=col>usertype</th><th scope=col>weekday</th><th scope=col>number_of_rides</th><th scope=col>average_duration</th></tr></thead>\n",
       "<tbody>\n",
       "\t<tr><td>Customer  </td><td>dom       </td><td>170179    </td><td>3370.8448 </td></tr>\n",
       "\t<tr><td>Customer  </td><td>lun       </td><td>101489    </td><td>3269.7334 </td></tr>\n",
       "\t<tr><td>Customer  </td><td>mar       </td><td> 88655    </td><td>3444.5548 </td></tr>\n",
       "\t<tr><td>Customer  </td><td>mer       </td><td> 89745    </td><td>3619.9636 </td></tr>\n",
       "\t<tr><td>Customer  </td><td>gio       </td><td>101372    </td><td>3596.7864 </td></tr>\n",
       "\t<tr><td>Customer  </td><td>ven       </td><td>121141    </td><td>3610.3514 </td></tr>\n",
       "\t<tr><td>Customer  </td><td>sab       </td><td>208056    </td><td>3243.5687 </td></tr>\n",
       "\t<tr><td>Subscriber</td><td>dom       </td><td>256241    </td><td> 923.8375 </td></tr>\n",
       "\t<tr><td>Subscriber</td><td>lun       </td><td>458780    </td><td> 854.6510 </td></tr>\n",
       "\t<tr><td>Subscriber</td><td>mar       </td><td>497025    </td><td> 848.8744 </td></tr>\n",
       "\t<tr><td>Subscriber</td><td>mer       </td><td>494277    </td><td> 828.3104 </td></tr>\n",
       "\t<tr><td>Subscriber</td><td>gio       </td><td>486915    </td><td> 826.5039 </td></tr>\n",
       "\t<tr><td>Subscriber</td><td>ven       </td><td>456966    </td><td> 833.5801 </td></tr>\n",
       "\t<tr><td>Subscriber</td><td>sab       </td><td>287163    </td><td> 977.9140 </td></tr>\n",
       "</tbody>\n",
       "</table>\n"
      ],
      "text/latex": [
       "\\begin{tabular}{r|llll}\n",
       " usertype & weekday & number\\_of\\_rides & average\\_duration\\\\\n",
       "\\hline\n",
       "\t Customer   & dom        & 170179     & 3370.8448 \\\\\n",
       "\t Customer   & lun        & 101489     & 3269.7334 \\\\\n",
       "\t Customer   & mar        &  88655     & 3444.5548 \\\\\n",
       "\t Customer   & mer        &  89745     & 3619.9636 \\\\\n",
       "\t Customer   & gio        & 101372     & 3596.7864 \\\\\n",
       "\t Customer   & ven        & 121141     & 3610.3514 \\\\\n",
       "\t Customer   & sab        & 208056     & 3243.5687 \\\\\n",
       "\t Subscriber & dom        & 256241     &  923.8375 \\\\\n",
       "\t Subscriber & lun        & 458780     &  854.6510 \\\\\n",
       "\t Subscriber & mar        & 497025     &  848.8744 \\\\\n",
       "\t Subscriber & mer        & 494277     &  828.3104 \\\\\n",
       "\t Subscriber & gio        & 486915     &  826.5039 \\\\\n",
       "\t Subscriber & ven        & 456966     &  833.5801 \\\\\n",
       "\t Subscriber & sab        & 287163     &  977.9140 \\\\\n",
       "\\end{tabular}\n"
      ],
      "text/markdown": [
       "\n",
       "| usertype | weekday | number_of_rides | average_duration |\n",
       "|---|---|---|---|\n",
       "| Customer   | dom        | 170179     | 3370.8448  |\n",
       "| Customer   | lun        | 101489     | 3269.7334  |\n",
       "| Customer   | mar        |  88655     | 3444.5548  |\n",
       "| Customer   | mer        |  89745     | 3619.9636  |\n",
       "| Customer   | gio        | 101372     | 3596.7864  |\n",
       "| Customer   | ven        | 121141     | 3610.3514  |\n",
       "| Customer   | sab        | 208056     | 3243.5687  |\n",
       "| Subscriber | dom        | 256241     |  923.8375  |\n",
       "| Subscriber | lun        | 458780     |  854.6510  |\n",
       "| Subscriber | mar        | 497025     |  848.8744  |\n",
       "| Subscriber | mer        | 494277     |  828.3104  |\n",
       "| Subscriber | gio        | 486915     |  826.5039  |\n",
       "| Subscriber | ven        | 456966     |  833.5801  |\n",
       "| Subscriber | sab        | 287163     |  977.9140  |\n",
       "\n"
      ],
      "text/plain": [
       "   usertype   weekday number_of_rides average_duration\n",
       "1  Customer   dom     170179          3370.8448       \n",
       "2  Customer   lun     101489          3269.7334       \n",
       "3  Customer   mar      88655          3444.5548       \n",
       "4  Customer   mer      89745          3619.9636       \n",
       "5  Customer   gio     101372          3596.7864       \n",
       "6  Customer   ven     121141          3610.3514       \n",
       "7  Customer   sab     208056          3243.5687       \n",
       "8  Subscriber dom     256241           923.8375       \n",
       "9  Subscriber lun     458780           854.6510       \n",
       "10 Subscriber mar     497025           848.8744       \n",
       "11 Subscriber mer     494277           828.3104       \n",
       "12 Subscriber gio     486915           826.5039       \n",
       "13 Subscriber ven     456966           833.5801       \n",
       "14 Subscriber sab     287163           977.9140       "
      ]
     },
     "metadata": {},
     "output_type": "display_data"
    }
   ],
   "source": [
    "#install.packages(\"dplyr\")\n",
    "#install.packages(\"lubridate\")\n",
    "library(\"dplyr\")\n",
    "library(\"lubridate\")\n",
    "options(warn=-1)\n",
    "\n",
    "merged %>% \n",
    "  mutate(weekday = wday(start_time, label = TRUE)) %>%  #creates weekday field using wday()\n",
    "  group_by(usertype, weekday) %>%  #groups by usertype and weekday\n",
    "  summarise(number_of_rides = n()\t\t\t\t\t\t\t#calculates the number of rides and average duration \n",
    "            ,average_duration = mean(tripduration)) %>% \t\t# calculates the average duration\n",
    "  arrange(usertype, weekday)\t\t#sorts"
   ]
  },
  {
   "cell_type": "markdown",
   "id": "42489bac",
   "metadata": {},
   "source": [
    "Let's now plot this.\n"
   ]
  },
  {
   "cell_type": "code",
   "execution_count": 25,
   "id": "7a7b545f",
   "metadata": {},
   "outputs": [
    {
     "name": "stderr",
     "output_type": "stream",
     "text": [
      "`summarise()` has grouped output by 'usertype'. You can override using the `.groups` argument.\n"
     ]
    },
    {
     "data": {
      "image/png": "[encoded data removed]",
      "text/plain": [
       "plot without title"
      ]
     },
     "metadata": {},
     "output_type": "display_data"
    }
   ],
   "source": [
    "#install.packages(\"ggplot2\")\n",
    "library(\"ggplot2\")\n",
    "merged %>%\n",
    "  mutate(weekday = wday(start_time, label = TRUE)) %>% \n",
    "  group_by(usertype, weekday) %>% \n",
    "  summarise(number_of_rides = n()\n",
    "            ,average_duration = mean(tripduration)) %>% \n",
    "  arrange(usertype, weekday)  %>% \n",
    "  ggplot(aes(x = weekday, y = number_of_rides, fill = usertype)) +\n",
    "  geom_col(position = \"dodge\")\n"
   ]
  },
  {
   "cell_type": "code",
   "execution_count": 26,
   "id": "f5aced11",
   "metadata": {},
   "outputs": [
    {
     "name": "stderr",
     "output_type": "stream",
     "text": [
      "`summarise()` has grouped output by 'usertype'. You can override using the `.groups` argument.\n"
     ]
    },
    {
     "data": {
      "image/png": "[encoded data removed]",
      "text/plain": [
       "plot without title"
      ]
     },
     "metadata": {},
     "output_type": "display_data"
    }
   ],
   "source": [
    "library(\"ggplot2\")\n",
    "merged %>%\n",
    "  mutate(month_name = month(start_time, label = TRUE)) %>% \n",
    "  group_by(usertype, month_name) %>% \n",
    "  summarise(number_of_rides = n()\n",
    "            ,average_duration = mean(tripduration)) %>% \n",
    "  arrange(usertype, month_name)  %>% \n",
    "  ggplot(aes(x = month_name, y = number_of_rides, fill = usertype)) +\n",
    "  geom_col(position = \"dodge\")\n"
   ]
  },
  {
   "cell_type": "markdown",
   "id": "4d917cf8",
   "metadata": {},
   "source": [
    "We know export our cleaned dataframe for further analysis."
   ]
  },
  {
   "cell_type": "code",
   "execution_count": 27,
   "id": "f882ee34",
   "metadata": {},
   "outputs": [],
   "source": [
    "file_to_save <- aggregate(merged$tripduration ~ merged$usertype + merged$day_of_week, FUN = mean)\n",
    "#write.csv(file_to_save, file = 'avg_ride_length.csv')"
   ]
  },
  {
   "cell_type": "markdown",
   "id": "cd5bb4bc",
   "metadata": {},
   "source": [
    "### Share phase"
   ]
  },
  {
   "cell_type": "markdown",
   "id": "3b0fb46d",
   "metadata": {},
   "source": [
    "We now use Tableau for making some fancy data visualizations."
   ]
  },
  {
   "cell_type": "markdown",
   "id": "0a73d995",
   "metadata": {},
   "source": [
    "Let's plot the average tripduration per user per day."
   ]
  },
  {
   "cell_type": "markdown",
   "id": "e37c212e",
   "metadata": {},
   "source": [
    "<div class='tableauPlaceholder' id='viz1638524224086' style='position: relative'><noscript><a href='#'><img alt='Dashboard 1 ' src='https:&#47;&#47;public.tableau.com&#47;static&#47;images&#47;Ca&#47;Capstopne&#47;Dashboard1&#47;1_rss.png' style='border: none' /></a></noscript><object class='tableauViz'  style='display:none;'><param name='host_url' value='https%3A%2F%2Fpublic.tableau.com%2F' /> <param name='embed_code_version' value='3' /> <param name='site_root' value='' /><param name='name' value='Capstopne&#47;Dashboard1' /><param name='tabs' value='no' /><param name='toolbar' value='yes' /><param name='static_image' value='https:&#47;&#47;public.tableau.com&#47;static&#47;images&#47;Ca&#47;Capstopne&#47;Dashboard1&#47;1.png' /> <param name='animate_transition' value='yes' /><param name='display_static_image' value='yes' /><param name='display_spinner' value='yes' /><param name='display_overlay' value='yes' /><param name='display_count' value='yes' /><param name='language' value='it-IT' /></object></div>                <script type='text/javascript'>                    var divElement = document.getElementById('viz1638524224086');                    var vizElement = divElement.getElementsByTagName('object')[0];                    if ( divElement.offsetWidth > 800 ) { vizElement.style.width='1000px';vizElement.style.height='827px';} else if ( divElement.offsetWidth > 500 ) { vizElement.style.width='1000px';vizElement.style.height='827px';} else { vizElement.style.width='100%';vizElement.style.height='727px';}                     var scriptElement = document.createElement('script');                    scriptElement.src = 'https://public.tableau.com/javascripts/api/viz_v1.js';                    vizElement.parentNode.insertBefore(scriptElement, vizElement);                </script>"
   ]
  },
  {
   "cell_type": "markdown",
   "id": "211b23cd",
   "metadata": {},
   "source": [
    "Let's plot the average tripduration per user per month."
   ]
  },
  {
   "cell_type": "markdown",
   "id": "92afdc21",
   "metadata": {},
   "source": [
    "<div class='tableauPlaceholder' id='viz1638524149007' style='position: relative'><noscript><a href='#'><img alt='Dashboard 2 ' src='https:&#47;&#47;public.tableau.com&#47;static&#47;images&#47;Ca&#47;Capstopne&#47;Dashboard2&#47;1_rss.png' style='border: none' /></a></noscript><object class='tableauViz'  style='display:none;'><param name='host_url' value='https%3A%2F%2Fpublic.tableau.com%2F' /> <param name='embed_code_version' value='3' /> <param name='site_root' value='' /><param name='name' value='Capstopne&#47;Dashboard2' /><param name='tabs' value='no' /><param name='toolbar' value='yes' /><param name='static_image' value='https:&#47;&#47;public.tableau.com&#47;static&#47;images&#47;Ca&#47;Capstopne&#47;Dashboard2&#47;1.png' /> <param name='animate_transition' value='yes' /><param name='display_static_image' value='yes' /><param name='display_spinner' value='yes' /><param name='display_overlay' value='yes' /><param name='display_count' value='yes' /><param name='language' value='it-IT' /></object></div>                <script type='text/javascript'>                    var divElement = document.getElementById('viz1638524149007');                    var vizElement = divElement.getElementsByTagName('object')[0];                    if ( divElement.offsetWidth > 800 ) { vizElement.style.width='1000px';vizElement.style.height='827px';} else if ( divElement.offsetWidth > 500 ) { vizElement.style.width='1000px';vizElement.style.height='827px';} else { vizElement.style.width='100%';vizElement.style.height='727px';}                     var scriptElement = document.createElement('script');                    scriptElement.src = 'https://public.tableau.com/javascripts/api/viz_v1.js';                    vizElement.parentNode.insertBefore(scriptElement, vizElement);                </script>"
   ]
  },
  {
   "cell_type": "markdown",
   "id": "d5b0c2c0",
   "metadata": {},
   "source": [
    "### Act phase"
   ]
  },
  {
   "cell_type": "markdown",
   "id": "f881ca19",
   "metadata": {},
   "source": [
    "Now we tell our final conclusions:\n",
    "We have seen that Customers tends to take less trips, but more usually they ride for more time.\n",
    "On the other hand, Subscribers tends to take more trips but shorter."
   ]
  },
  {
   "cell_type": "markdown",
   "id": "2149e534",
   "metadata": {},
   "source": [
    "Our goal is to convert Customers into Subscriber, so our data-driven advices are:\n",
    "* To make more annual promotions during summer, where casual customers tend to take more bike trips.\n",
    "* To make more promotions for users whom usually take longer trips, since usually casual customers take longer bike trips.\n",
    "* To make more annual promotions at the beginning of the year, since it looks like casual customers tends to rent more bikes at the beginning of the year."
   ]
  }
 ],
 "metadata": {
  "kernelspec": {
   "display_name": "R",
   "language": "R",
   "name": "ir"
  },
  "language_info": {
   "codemirror_mode": "r",
   "file_extension": ".r",
   "mimetype": "text/x-r-source",
   "name": "R",
   "pygments_lexer": "r",
   "version": "3.6.1"
  }
 },
 "nbformat": 4,
 "nbformat_minor": 5
}
